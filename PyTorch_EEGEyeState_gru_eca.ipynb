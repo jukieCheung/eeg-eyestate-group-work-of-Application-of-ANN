{
  "cells": [
    {
      "cell_type": "code",
      "execution_count": 1,
      "metadata": {
        "colab": {},
        "colab_type": "code",
        "id": "z8dL4rrQSXbL"
      },
      "outputs": [
        {
          "name": "stderr",
          "output_type": "stream",
          "text": [
            "/home/jukie/anaconda3/envs/py37/lib/python3.7/site-packages/tqdm/auto.py:22: TqdmWarning: IProgress not found. Please update jupyter and ipywidgets. See https://ipywidgets.readthedocs.io/en/stable/user_install.html\n",
            "  from .autonotebook import tqdm as notebook_tqdm\n"
          ]
        }
      ],
      "source": [
        "import torch\n",
        "import torch.nn as nn\n",
        "import torch.nn.functional as F\n",
        "import torch.optim as optim\n",
        "import torch.utils.data as data\n",
        "\n",
        "import torchvision.transforms as transforms\n",
        "import torchvision.datasets as datasets\n",
        "from torch.optim.lr_scheduler import LambdaLR\n",
        "\n",
        "from sklearn import metrics\n",
        "from sklearn import decomposition\n",
        "from sklearn import manifold\n",
        "from sklearn.preprocessing import StandardScaler    \n",
        "from sklearn.model_selection import train_test_split\n",
        "from sklearn.metrics import confusion_matrix, classification_report\n",
        "from torch.utils.data import Dataset, DataLoader\n",
        "import matplotlib.pyplot as plt\n",
        "import numpy as np\n",
        "import pandas as pd\n",
        "import copy\n",
        "import random\n",
        "import time\n",
        "\n",
        "import adai_optim\n",
        "\n",
        "SEED = 1234\n",
        "\n",
        "random.seed(SEED)\n",
        "np.random.seed(SEED)\n",
        "torch.manual_seed(SEED)\n",
        "torch.cuda.manual_seed(SEED)\n",
        "torch.backends.cudnn.deterministic = True"
      ]
    },
    {
      "cell_type": "code",
      "execution_count": 2,
      "metadata": {
        "colab": {
          "base_uri": "https://localhost:8080/",
          "height": 204
        },
        "colab_type": "code",
        "id": "ny8CDFfPSlnP",
        "outputId": "79488470-2259-430d-87c9-db6360d49302"
      },
      "outputs": [],
      "source": [
        "df = pd.read_csv('/home/jukie/Project/eeg-eye-state-classification-master/eeg_eye_state.csv', skiprows = [i for i in range(19)], header=None)"
      ]
    },
    {
      "cell_type": "code",
      "execution_count": 3,
      "metadata": {
        "colab": {},
        "colab_type": "code",
        "id": "Ueg0srJ0SxkY"
      },
      "outputs": [],
      "source": [
        "X = df.loc[:,0:13]\n",
        "y = df.loc[:,14:]"
      ]
    },
    {
      "cell_type": "code",
      "execution_count": 4,
      "metadata": {
        "colab": {},
        "colab_type": "code",
        "id": "0hWfjogVTZkk"
      },
      "outputs": [],
      "source": [
        "X_train, X_test, y_train, y_test = train_test_split(X, y, test_size=0.15, random_state=1234)"
      ]
    },
    {
      "cell_type": "code",
      "execution_count": 5,
      "metadata": {},
      "outputs": [],
      "source": [
        "scaler = StandardScaler()\n",
        "X_train = scaler.fit_transform(X_train)\n",
        "X_test = scaler.fit_transform(X_test)"
      ]
    },
    {
      "cell_type": "code",
      "execution_count": 6,
      "metadata": {
        "colab": {
          "base_uri": "https://localhost:8080/",
          "height": 51
        },
        "colab_type": "code",
        "id": "Y6UeoQf-TTvM",
        "outputId": "b9822a98-85dd-4edb-e557-54677264c229"
      },
      "outputs": [
        {
          "name": "stdout",
          "output_type": "stream",
          "text": [
            "Training Data has 12717 examples\n",
            "Testing Data has 2245 examples\n"
          ]
        }
      ],
      "source": [
        "print(f\"Training Data has {len(X_train)} examples\")\n",
        "print(f\"Testing Data has {len(X_test)} examples\")"
      ]
    },
    {
      "cell_type": "code",
      "execution_count": 7,
      "metadata": {
        "colab": {
          "base_uri": "https://localhost:8080/",
          "height": 238
        },
        "colab_type": "code",
        "id": "PVs6v3Xk--S4",
        "outputId": "146e656e-cb7a-40b2-fcac-f9f5eb4c75f6"
      },
      "outputs": [],
      "source": [
        "y_train = y_train.to_numpy()\n"
      ]
    },
    {
      "cell_type": "code",
      "execution_count": 8,
      "metadata": {},
      "outputs": [],
      "source": [
        "y_test =y_test.to_numpy()"
      ]
    },
    {
      "cell_type": "code",
      "execution_count": 9,
      "metadata": {},
      "outputs": [],
      "source": [
        "#X_train = X_train.to_numpy()\n",
        "#X_test = X_test.to_numpy()"
      ]
    },
    {
      "cell_type": "code",
      "execution_count": 10,
      "metadata": {
        "colab": {},
        "colab_type": "code",
        "id": "4g4cmdfRURYC"
      },
      "outputs": [],
      "source": [
        "## Train Data\n",
        "class trainData(Dataset):\n",
        "    \n",
        "    def __init__(self, X_data, y_data):\n",
        "        self.X_data = X_data\n",
        "        self.y_data = y_data\n",
        "        \n",
        "    def __getitem__(self, index):\n",
        "        return self.X_data[index], self.y_data[index]\n",
        "        \n",
        "    def __len__ (self):\n",
        "        return len(self.X_data)\n",
        "\n",
        "\n",
        "train_data = trainData(torch.FloatTensor(X_train), \n",
        "                       torch.FloatTensor(y_train))\n",
        "## Test Data    \n",
        "class testData(Dataset):\n",
        "    \n",
        "    def __init__(self, X_data, y_data):\n",
        "        self.X_data = X_data\n",
        "        self.y_data = y_data\n",
        "        \n",
        "    def __getitem__(self, index):\n",
        "        return self.X_data[index], self.y_data[index]\n",
        "        \n",
        "    def __len__ (self):\n",
        "        return len(self.X_data)\n",
        "    \n",
        "\n",
        "test_data = testData(torch.FloatTensor(X_test),\n",
        "                    torch.FloatTensor(y_test))"
      ]
    },
    {
      "cell_type": "code",
      "execution_count": 11,
      "metadata": {
        "colab": {},
        "colab_type": "code",
        "id": "QlGXd0e1_yAl"
      },
      "outputs": [],
      "source": [
        "# Create DataLoaders for torch\n",
        "BATCH_SIZE = 64\n",
        "LEARNING_RATE=0.001\n",
        "EPOCHS=50\n",
        "\n",
        "train_loader = DataLoader(dataset=train_data, batch_size=BATCH_SIZE, shuffle=True)\n",
        "test_loader = DataLoader(dataset=test_data, batch_size=BATCH_SIZE,)"
      ]
    },
    {
      "cell_type": "code",
      "execution_count": 12,
      "metadata": {},
      "outputs": [],
      "source": [
        "class eca_layer(nn.Module):\n",
        "    \"\"\"Constructs a ECA module.\n",
        "\n",
        "    Args:\n",
        "        channel: Number of channels of the input feature map\n",
        "        k_size: Adaptive selection of kernel size\n",
        "    \"\"\"\n",
        "    def __init__(self, channel, k_size=3):\n",
        "        super(eca_layer, self).__init__()\n",
        "        self.avg_pool = nn.AdaptiveAvgPool2d(1)\n",
        "        self.conv = nn.Conv1d(1, 1, kernel_size=k_size, padding=(k_size - 1) // 2, bias=False) \n",
        "        self.sigmoid = nn.Sigmoid()\n",
        "\n",
        "    def forward(self, x):\n",
        "        # feature descriptor on the global spatial information\n",
        "        y = self.avg_pool(x)\n",
        "\n",
        "        # Two different branches of ECA module\n",
        "        y = self.conv(y.squeeze(-1).transpose(-1, -2)).transpose(-1, -2).unsqueeze(-1)\n",
        "\n",
        "        # Multi-scale information fusion\n",
        "        y = self.sigmoid(y)\n",
        "\n",
        "        return x * y.expand_as(x)"
      ]
    },
    {
      "cell_type": "code",
      "execution_count": 13,
      "metadata": {},
      "outputs": [],
      "source": [
        "class GRUnet1(nn.Module):\n",
        "    def __init__(self):\n",
        "        super(GRUnet1,self).__init__()\n",
        "        self.embed = nn.Sequential(\n",
        "            nn.Linear(1,64),\n",
        "            #nn.Dropout(p=0.3),\n",
        "            nn.ReLU())\n",
        "        self.gru1 = nn.LSTM(input_size=64,hidden_size=256,batch_first=True,bidirectional=True)\n",
        "        self.gru2 = nn.LSTM(input_size=512,hidden_size=128,batch_first=True,bidirectional=True)\n",
        "        self.gru3 = nn.GRU(input_size=256,hidden_size=32,batch_first=True,bidirectional=True)\n",
        "        self.tanh = nn.Tanh()\n",
        "        self.gru = nn.GRU(input_size=64,hidden_size=128,batch_first=True,bidirectional=True)\n",
        "\n",
        "        self.conn1 = nn.Dropout(p=0.3)\n",
        "        self.eca1 = eca_layer(64,3)\n",
        "        self.eca2 = eca_layer(256,3)\n",
        "        self.fc = nn.Linear(128, 1)\n",
        "        self.flat = nn.Sequential(\n",
        "            nn.Linear(3584,128),\n",
        "            #nn.Dropout(p=0.5),\n",
        "            nn.ReLU())\n",
        "        self.head = nn.Sigmoid()\n",
        "\n",
        "    def forward(self,x):\n",
        "        x = torch.unsqueeze(x,2)\n",
        "        x = self.embed(x)\n",
        "\n",
        "        #x = self.eca1(x)\n",
        "        x,n = self.gru1(x,None)\n",
        "        x = self.tanh(x)\n",
        "        x = self.conn1(x)\n",
        "        x,n = self.gru2(x,None)\n",
        "        x = self.tanh(x)\n",
        "        #x,n = self.gru(x,None)\n",
        "        x = self.conn1(x)\n",
        "        #x,n = self.gru3(x,None)\n",
        "        #x = self.conn1(x)\n",
        "        #x = self.eca2(x)\n",
        "        x = torch.flatten(x,1)\n",
        "        x = self.flat(x)\n",
        "        x = self.fc(x)\n",
        "        x = self.head(x)\n",
        "        return x\n",
        "\n",
        "model = GRUnet1()"
      ]
    },
    {
      "cell_type": "code",
      "execution_count": 14,
      "metadata": {
        "colab": {
          "base_uri": "https://localhost:8080/",
          "height": 34
        },
        "colab_type": "code",
        "id": "ChKT8fRTJeCV",
        "outputId": "b544f116-4523-44f8-ae9c-7320a6067510"
      },
      "outputs": [
        {
          "name": "stdout",
          "output_type": "stream",
          "text": [
            "The model has 1,980,679 trainable parameters\n"
          ]
        }
      ],
      "source": [
        "def count_parameters(model):\n",
        "    return sum(p.numel() for p in model.parameters() if p.requires_grad)\n",
        "print(f'The model has {count_parameters(model):,} trainable parameters')"
      ]
    },
    {
      "cell_type": "code",
      "execution_count": 15,
      "metadata": {
        "colab": {},
        "colab_type": "code",
        "id": "0T1eGSRpH4bW"
      },
      "outputs": [],
      "source": [
        "optimizer = optim.Adam(model.parameters(), lr=LEARNING_RATE, weight_decay=5e-4)\n",
        "#optimizer = optim.Adam(model.parameters(), lr=LEARNING_RATE)\n",
        "#optimizer = adai_optim.AdaiW(model.parameters(), lr=LEARNING_RATE, betas=(0.1, 0.99), eps=1e-03, weight_decay=5e-4)\n",
        "#criterion = nn.BCEWithLogitsLoss()\n",
        "criterion = nn.BCELoss()\n",
        "#scheduler_1 = LambdaLR(optimizer, lr_lambda=lambda epoch: 0.001 * np.exp(-epoch / 10.0))\n",
        "device = torch.device('cuda:0')"
      ]
    },
    {
      "cell_type": "code",
      "execution_count": 16,
      "metadata": {
        "colab": {},
        "colab_type": "code",
        "id": "ROQMjs0jLmVQ"
      },
      "outputs": [],
      "source": [
        "model = model.to(device)\n",
        "criterion = criterion.to(device)"
      ]
    },
    {
      "cell_type": "code",
      "execution_count": 17,
      "metadata": {
        "colab": {},
        "colab_type": "code",
        "id": "0fYPzjCRU4Jp"
      },
      "outputs": [],
      "source": [
        "def accuracy(y_pred, y_test):\n",
        "    #y_pred_tag = torch.round(torch.sigmoid(y_pred))\n",
        "    y_pred_tag = torch.round(y_pred)\n",
        "\n",
        "    correct_results_sum = (y_pred_tag == y_test).sum().float()\n",
        "    acc = correct_results_sum/y_test.shape[0]\n",
        "    acc = torch.round(acc * 100)\n",
        "    \n",
        "    return acc"
      ]
    },
    {
      "cell_type": "code",
      "execution_count": 18,
      "metadata": {
        "colab": {
          "base_uri": "https://localhost:8080/",
          "height": 867
        },
        "colab_type": "code",
        "id": "qogO4Jw3U_9q",
        "outputId": "dd31b4c3-d072-4409-b749-4f83e72e88c1"
      },
      "outputs": [
        {
          "name": "stdout",
          "output_type": "stream",
          "text": [
            "Epoch 001: | Loss: 0.68268 | Acc: 55.467\n",
            "Epoch 001: | tLoss: 0.66670 | tAcc: 58.972\n",
            "Epoch 002: | Loss: 0.66165 | Acc: 57.779\n",
            "Epoch 002: | tLoss: 0.69637 | tAcc: 60.222\n",
            "Epoch 003: | Loss: 0.65057 | Acc: 59.724\n",
            "Epoch 003: | tLoss: 0.69040 | tAcc: 58.722\n",
            "Epoch 004: | Loss: 0.63069 | Acc: 62.462\n",
            "Epoch 004: | tLoss: 0.78591 | tAcc: 58.417\n",
            "Epoch 005: | Loss: 0.59393 | Acc: 66.578\n",
            "Epoch 005: | tLoss: 0.84207 | tAcc: 59.194\n",
            "Epoch 006: | Loss: 0.56280 | Acc: 70.357\n",
            "Epoch 006: | tLoss: 0.80216 | tAcc: 61.611\n",
            "Epoch 007: | Loss: 0.53729 | Acc: 72.432\n",
            "Epoch 007: | tLoss: 0.90183 | tAcc: 60.361\n",
            "Epoch 008: | Loss: 0.51614 | Acc: 73.879\n",
            "Epoch 008: | tLoss: 1.00464 | tAcc: 59.833\n",
            "Epoch 009: | Loss: 0.50384 | Acc: 74.573\n",
            "Epoch 009: | tLoss: 0.85168 | tAcc: 61.639\n",
            "Epoch 010: | Loss: 0.49180 | Acc: 75.538\n",
            "Epoch 010: | tLoss: 0.92918 | tAcc: 61.111\n",
            "Epoch 011: | Loss: 0.48666 | Acc: 75.879\n",
            "Epoch 011: | tLoss: 0.97377 | tAcc: 60.333\n",
            "Epoch 012: | Loss: 0.47323 | Acc: 76.302\n",
            "Epoch 012: | tLoss: 1.05393 | tAcc: 60.889\n",
            "Epoch 013: | Loss: 0.46232 | Acc: 77.402\n",
            "Epoch 013: | tLoss: 0.94203 | tAcc: 61.500\n",
            "Epoch 014: | Loss: 0.45650 | Acc: 77.995\n",
            "Epoch 014: | tLoss: 1.03401 | tAcc: 62.000\n",
            "Epoch 015: | Loss: 0.45183 | Acc: 78.317\n",
            "Epoch 015: | tLoss: 1.06406 | tAcc: 61.389\n",
            "Epoch 016: | Loss: 0.44555 | Acc: 78.864\n",
            "Epoch 016: | tLoss: 1.09866 | tAcc: 59.000\n",
            "Epoch 017: | Loss: 0.43748 | Acc: 79.136\n",
            "Epoch 017: | tLoss: 1.10308 | tAcc: 59.917\n",
            "Epoch 018: | Loss: 0.43323 | Acc: 79.422\n",
            "Epoch 018: | tLoss: 0.96492 | tAcc: 63.194\n",
            "Epoch 019: | Loss: 0.43083 | Acc: 79.749\n",
            "Epoch 019: | tLoss: 1.13369 | tAcc: 61.833\n",
            "Epoch 020: | Loss: 0.42449 | Acc: 79.724\n",
            "Epoch 020: | tLoss: 1.11679 | tAcc: 61.083\n",
            "Epoch 021: | Loss: 0.42097 | Acc: 79.764\n",
            "Epoch 021: | tLoss: 1.04508 | tAcc: 59.806\n",
            "Epoch 022: | Loss: 0.42335 | Acc: 79.894\n",
            "Epoch 022: | tLoss: 1.22949 | tAcc: 59.722\n",
            "Epoch 023: | Loss: 0.41740 | Acc: 80.286\n",
            "Epoch 023: | tLoss: 1.10303 | tAcc: 61.083\n",
            "Epoch 024: | Loss: 0.41585 | Acc: 80.442\n",
            "Epoch 024: | tLoss: 1.09571 | tAcc: 60.333\n",
            "Epoch 025: | Loss: 0.41037 | Acc: 80.688\n",
            "Epoch 025: | tLoss: 1.05073 | tAcc: 61.611\n",
            "Epoch 026: | Loss: 0.40512 | Acc: 81.020\n",
            "Epoch 026: | tLoss: 1.28218 | tAcc: 58.000\n",
            "Epoch 027: | Loss: 0.40225 | Acc: 81.015\n",
            "Epoch 027: | tLoss: 1.11974 | tAcc: 60.472\n",
            "Epoch 028: | Loss: 0.39944 | Acc: 81.176\n",
            "Epoch 028: | tLoss: 1.28029 | tAcc: 59.444\n",
            "Epoch 029: | Loss: 0.40115 | Acc: 81.000\n",
            "Epoch 029: | tLoss: 1.25888 | tAcc: 59.944\n",
            "Epoch 030: | Loss: 0.40419 | Acc: 81.075\n",
            "Epoch 030: | tLoss: 1.20314 | tAcc: 60.111\n",
            "Epoch 031: | Loss: 0.39693 | Acc: 81.593\n",
            "Epoch 031: | tLoss: 1.19244 | tAcc: 59.778\n",
            "Epoch 032: | Loss: 0.39376 | Acc: 81.487\n",
            "Epoch 032: | tLoss: 1.24324 | tAcc: 60.139\n",
            "Epoch 033: | Loss: 0.39607 | Acc: 81.523\n",
            "Epoch 033: | tLoss: 1.32525 | tAcc: 59.722\n",
            "Epoch 034: | Loss: 0.39265 | Acc: 82.055\n",
            "Epoch 034: | tLoss: 1.33589 | tAcc: 61.056\n",
            "Epoch 035: | Loss: 0.39146 | Acc: 81.809\n",
            "Epoch 035: | tLoss: 1.30138 | tAcc: 60.194\n",
            "Epoch 036: | Loss: 0.39337 | Acc: 81.317\n",
            "Epoch 036: | tLoss: 1.28755 | tAcc: 60.083\n",
            "Epoch 037: | Loss: 0.38755 | Acc: 82.030\n",
            "Epoch 037: | tLoss: 1.32556 | tAcc: 59.806\n",
            "Epoch 038: | Loss: 0.39152 | Acc: 81.668\n",
            "Epoch 038: | tLoss: 1.24959 | tAcc: 60.222\n",
            "Epoch 039: | Loss: 0.38177 | Acc: 82.040\n",
            "Epoch 039: | tLoss: 1.16239 | tAcc: 61.583\n",
            "Epoch 040: | Loss: 0.38721 | Acc: 81.688\n",
            "Epoch 040: | tLoss: 1.20921 | tAcc: 61.194\n",
            "Epoch 041: | Loss: 0.38618 | Acc: 82.000\n",
            "Epoch 041: | tLoss: 1.27624 | tAcc: 59.861\n",
            "Epoch 042: | Loss: 0.38119 | Acc: 82.382\n",
            "Epoch 042: | tLoss: 1.30507 | tAcc: 58.944\n",
            "Epoch 043: | Loss: 0.38183 | Acc: 82.196\n",
            "Epoch 043: | tLoss: 1.32354 | tAcc: 59.722\n",
            "Epoch 044: | Loss: 0.38624 | Acc: 81.749\n",
            "Epoch 044: | tLoss: 1.21211 | tAcc: 60.278\n",
            "Epoch 045: | Loss: 0.37592 | Acc: 82.653\n",
            "Epoch 045: | tLoss: 1.10660 | tAcc: 61.444\n",
            "Epoch 046: | Loss: 0.38034 | Acc: 82.161\n",
            "Epoch 046: | tLoss: 1.35478 | tAcc: 57.972\n",
            "Epoch 047: | Loss: 0.37536 | Acc: 82.910\n",
            "Epoch 047: | tLoss: 1.19110 | tAcc: 60.611\n",
            "Epoch 048: | Loss: 0.37653 | Acc: 82.678\n",
            "Epoch 048: | tLoss: 1.30350 | tAcc: 60.111\n",
            "Epoch 049: | Loss: 0.37187 | Acc: 82.764\n",
            "Epoch 049: | tLoss: 1.24078 | tAcc: 61.361\n",
            "Epoch 050: | Loss: 0.37496 | Acc: 82.402\n",
            "Epoch 050: | tLoss: 1.12252 | tAcc: 62.028\n",
            "Epoch 051: | Loss: 0.36979 | Acc: 83.010\n",
            "Epoch 051: | tLoss: 1.22721 | tAcc: 60.444\n",
            "Epoch 052: | Loss: 0.37007 | Acc: 82.859\n",
            "Epoch 052: | tLoss: 1.33384 | tAcc: 60.222\n",
            "Epoch 053: | Loss: 0.37226 | Acc: 82.774\n",
            "Epoch 053: | tLoss: 1.39821 | tAcc: 59.083\n",
            "Epoch 054: | Loss: 0.36754 | Acc: 83.377\n",
            "Epoch 054: | tLoss: 1.38909 | tAcc: 59.944\n",
            "Epoch 055: | Loss: 0.36897 | Acc: 82.759\n",
            "Epoch 055: | tLoss: 1.34114 | tAcc: 60.083\n",
            "Epoch 056: | Loss: 0.37343 | Acc: 82.538\n",
            "Epoch 056: | tLoss: 1.39855 | tAcc: 58.917\n",
            "Epoch 057: | Loss: 0.36838 | Acc: 82.894\n",
            "Epoch 057: | tLoss: 1.24109 | tAcc: 60.333\n",
            "Epoch 058: | Loss: 0.36643 | Acc: 83.015\n",
            "Epoch 058: | tLoss: 1.24291 | tAcc: 60.556\n",
            "Epoch 059: | Loss: 0.36439 | Acc: 83.090\n",
            "Epoch 059: | tLoss: 1.23722 | tAcc: 60.278\n",
            "Epoch 060: | Loss: 0.36381 | Acc: 83.241\n",
            "Epoch 060: | tLoss: 1.27315 | tAcc: 59.667\n",
            "Epoch 061: | Loss: 0.36009 | Acc: 83.136\n",
            "Epoch 061: | tLoss: 1.29969 | tAcc: 60.028\n",
            "Epoch 062: | Loss: 0.36878 | Acc: 82.789\n",
            "Epoch 062: | tLoss: 1.22437 | tAcc: 61.278\n",
            "Epoch 063: | Loss: 0.36853 | Acc: 82.935\n",
            "Epoch 063: | tLoss: 1.31284 | tAcc: 60.833\n",
            "Epoch 064: | Loss: 0.35751 | Acc: 83.387\n",
            "Epoch 064: | tLoss: 1.26233 | tAcc: 60.694\n",
            "Epoch 065: | Loss: 0.36105 | Acc: 83.196\n",
            "Epoch 065: | tLoss: 1.44270 | tAcc: 59.194\n",
            "Epoch 066: | Loss: 0.35584 | Acc: 83.774\n",
            "Epoch 066: | tLoss: 1.24757 | tAcc: 61.028\n",
            "Epoch 067: | Loss: 0.35846 | Acc: 83.442\n",
            "Epoch 067: | tLoss: 1.23537 | tAcc: 61.833\n",
            "Epoch 068: | Loss: 0.36207 | Acc: 83.171\n",
            "Epoch 068: | tLoss: 1.34314 | tAcc: 60.194\n",
            "Epoch 069: | Loss: 0.35578 | Acc: 83.322\n",
            "Epoch 069: | tLoss: 1.38526 | tAcc: 60.333\n",
            "Epoch 070: | Loss: 0.35593 | Acc: 83.804\n",
            "Epoch 070: | tLoss: 1.41878 | tAcc: 58.944\n",
            "Epoch 071: | Loss: 0.35840 | Acc: 83.302\n",
            "Epoch 071: | tLoss: 1.35195 | tAcc: 59.944\n",
            "Epoch 072: | Loss: 0.35660 | Acc: 83.623\n",
            "Epoch 072: | tLoss: 1.25001 | tAcc: 61.250\n",
            "Epoch 073: | Loss: 0.35601 | Acc: 83.608\n",
            "Epoch 073: | tLoss: 1.36466 | tAcc: 59.194\n",
            "Epoch 074: | Loss: 0.35783 | Acc: 83.774\n",
            "Epoch 074: | tLoss: 1.24196 | tAcc: 60.861\n",
            "Epoch 075: | Loss: 0.35734 | Acc: 83.673\n",
            "Epoch 075: | tLoss: 1.31034 | tAcc: 58.222\n",
            "Epoch 076: | Loss: 0.35472 | Acc: 83.638\n",
            "Epoch 076: | tLoss: 1.27478 | tAcc: 60.167\n",
            "Epoch 077: | Loss: 0.35364 | Acc: 83.960\n",
            "Epoch 077: | tLoss: 1.45230 | tAcc: 58.750\n",
            "Epoch 078: | Loss: 0.35225 | Acc: 83.739\n",
            "Epoch 078: | tLoss: 1.46501 | tAcc: 59.611\n",
            "Epoch 079: | Loss: 0.35385 | Acc: 83.779\n",
            "Epoch 079: | tLoss: 1.29767 | tAcc: 60.278\n",
            "Epoch 080: | Loss: 0.35230 | Acc: 83.769\n",
            "Epoch 080: | tLoss: 1.25780 | tAcc: 60.333\n",
            "Epoch 081: | Loss: 0.35225 | Acc: 83.930\n",
            "Epoch 081: | tLoss: 1.33155 | tAcc: 61.250\n",
            "Epoch 082: | Loss: 0.34522 | Acc: 84.191\n",
            "Epoch 082: | tLoss: 1.35836 | tAcc: 60.611\n",
            "Epoch 083: | Loss: 0.34727 | Acc: 84.055\n",
            "Epoch 083: | tLoss: 1.24508 | tAcc: 60.861\n",
            "Epoch 084: | Loss: 0.34823 | Acc: 84.181\n",
            "Epoch 084: | tLoss: 1.42929 | tAcc: 58.250\n",
            "Epoch 085: | Loss: 0.34621 | Acc: 84.372\n",
            "Epoch 085: | tLoss: 1.38721 | tAcc: 59.333\n",
            "Epoch 086: | Loss: 0.34347 | Acc: 84.181\n",
            "Epoch 086: | tLoss: 1.41959 | tAcc: 59.250\n",
            "Epoch 087: | Loss: 0.34718 | Acc: 84.236\n",
            "Epoch 087: | tLoss: 1.42993 | tAcc: 58.417\n",
            "Epoch 088: | Loss: 0.34820 | Acc: 84.146\n",
            "Epoch 088: | tLoss: 1.21763 | tAcc: 61.028\n",
            "Epoch 089: | Loss: 0.33812 | Acc: 84.779\n",
            "Epoch 089: | tLoss: 1.30200 | tAcc: 61.083\n",
            "Epoch 090: | Loss: 0.34935 | Acc: 84.216\n",
            "Epoch 090: | tLoss: 1.29581 | tAcc: 58.389\n",
            "Epoch 091: | Loss: 0.34442 | Acc: 84.548\n",
            "Epoch 091: | tLoss: 1.41531 | tAcc: 60.111\n",
            "Epoch 092: | Loss: 0.34311 | Acc: 84.472\n",
            "Epoch 092: | tLoss: 1.29573 | tAcc: 61.111\n",
            "Epoch 093: | Loss: 0.34859 | Acc: 84.251\n",
            "Epoch 093: | tLoss: 1.26077 | tAcc: 60.306\n",
            "Epoch 094: | Loss: 0.34847 | Acc: 84.161\n",
            "Epoch 094: | tLoss: 1.22616 | tAcc: 60.083\n",
            "Epoch 095: | Loss: 0.34194 | Acc: 84.342\n",
            "Epoch 095: | tLoss: 1.36830 | tAcc: 58.750\n",
            "Epoch 096: | Loss: 0.34203 | Acc: 84.357\n",
            "Epoch 096: | tLoss: 1.48050 | tAcc: 58.000\n",
            "Epoch 097: | Loss: 0.33951 | Acc: 84.749\n",
            "Epoch 097: | tLoss: 1.44476 | tAcc: 59.111\n",
            "Epoch 098: | Loss: 0.34040 | Acc: 84.492\n",
            "Epoch 098: | tLoss: 1.39271 | tAcc: 58.500\n",
            "Epoch 099: | Loss: 0.33580 | Acc: 84.894\n",
            "Epoch 099: | tLoss: 1.34372 | tAcc: 58.944\n",
            "Epoch 100: | Loss: 0.33599 | Acc: 84.879\n",
            "Epoch 100: | tLoss: 1.47659 | tAcc: 59.444\n"
          ]
        }
      ],
      "source": [
        "#model.train()\n",
        "for e in range(1, 101):\n",
        "    epoch_loss = 0\n",
        "    epoch_acc = 0\n",
        "    tepoch_loss = 0\n",
        "    tepoch_acc = 0\n",
        "    model.train()\n",
        "    for X_batch, y_batch in train_loader:\n",
        "        \n",
        "        X_batch, y_batch = X_batch.to(device), y_batch.to(device)\n",
        "        optimizer.zero_grad()\n",
        "        \n",
        "        y_pred = model(X_batch)\n",
        "        #y_pred = torch.argmax(y_pred, dim=1)\n",
        "        #y_pred = torch.FloatTensor(y_pred)\n",
        "        #y_pred = y_pred.to(device)\n",
        "        #y_pred = y_pred.float()\n",
        "        loss = criterion(y_pred, y_batch)\n",
        "        acc = accuracy(y_pred, y_batch)\n",
        "        #loss.requires_grad_()\n",
        "        loss.backward()\n",
        "        optimizer.step()\n",
        "        #scheduler_1.step()\n",
        "        epoch_loss += loss.item()\n",
        "        epoch_acc += acc.item()\n",
        "        \n",
        "    model.eval()\n",
        "    for X_batch, y_batch in test_loader:\n",
        "        \n",
        "        X_batch, y_batch = X_batch.to(device), y_batch.to(device)\n",
        "\n",
        "        \n",
        "        y_pred = model(X_batch)\n",
        "        #y_pred = torch.argmax(y_pred, dim=1)\n",
        "        #y_pred = torch.FloatTensor(y_pred)\n",
        "        #y_pred = y_pred.to(device)\n",
        "        #y_pred = y_pred.float()\n",
        "        tloss = criterion(y_pred, y_batch)\n",
        "        tacc = accuracy(y_pred, y_batch)\n",
        "                \n",
        "        tepoch_loss += tloss.item()\n",
        "        tepoch_acc += tacc.item()\n",
        "        \n",
        "    print(f'Epoch {e+0:03}: | Loss: {epoch_loss/len(train_loader):.5f} | Acc: {epoch_acc/len(train_loader):.3f}')    \n",
        "    print(f'Epoch {e+0:03}: | tLoss: {tepoch_loss/len(test_loader):.5f} | tAcc: {tepoch_acc/len(test_loader):.3f}')"
      ]
    },
    {
      "cell_type": "code",
      "execution_count": 19,
      "metadata": {},
      "outputs": [],
      "source": [
        "class accData(Dataset):\n",
        "    \n",
        "    def __init__(self, X_data):\n",
        "        self.X_data = X_data\n",
        "        \n",
        "    def __getitem__(self, index):\n",
        "        return self.X_data[index]\n",
        "        \n",
        "    def __len__ (self):\n",
        "        return len(self.X_data)\n",
        "    \n",
        "\n",
        "acc_data = accData(torch.FloatTensor(X_test))"
      ]
    },
    {
      "cell_type": "code",
      "execution_count": 20,
      "metadata": {},
      "outputs": [],
      "source": [
        "acc_loader = DataLoader(dataset=acc_data, batch_size=1)"
      ]
    },
    {
      "cell_type": "code",
      "execution_count": 21,
      "metadata": {
        "colab": {},
        "colab_type": "code",
        "id": "xtV7JwLkVOyF"
      },
      "outputs": [],
      "source": [
        "y_pred_list = []\n",
        "model.eval()\n",
        "with torch.no_grad():\n",
        "    for X_batch in acc_loader:\n",
        "        X_batch = X_batch.to(device)\n",
        "        y_test_pred = model(X_batch)\n",
        "        #y_test_pred = torch.sigmoid(y_test_pred)\n",
        "        y_pred_tag = torch.round(y_test_pred)\n",
        "        y_pred_list.append(y_pred_tag.cpu().numpy())\n",
        "\n",
        "y_pred_list = [a.squeeze().tolist() for a in y_pred_list]"
      ]
    },
    {
      "cell_type": "code",
      "execution_count": 23,
      "metadata": {},
      "outputs": [
        {
          "name": "stdout",
          "output_type": "stream",
          "text": [
            "              precision    recall  f1-score   support\n",
            "\n",
            "           0       0.65      0.57      0.61      1233\n",
            "           1       0.54      0.62      0.58      1012\n",
            "\n",
            "    accuracy                           0.59      2245\n",
            "   macro avg       0.60      0.60      0.59      2245\n",
            "weighted avg       0.60      0.59      0.59      2245\n",
            "\n"
          ]
        }
      ],
      "source": [
        "print(classification_report(y_test, y_pred_list))"
      ]
    }
  ],
  "metadata": {
    "accelerator": "GPU",
    "colab": {
      "collapsed_sections": [],
      "name": "PyTorch EEGEyeState",
      "provenance": []
    },
    "kernelspec": {
      "display_name": "Python 3.9.0 ('mindspore_py39': conda)",
      "language": "python",
      "name": "python3"
    },
    "language_info": {
      "codemirror_mode": {
        "name": "ipython",
        "version": 3
      },
      "file_extension": ".py",
      "mimetype": "text/x-python",
      "name": "python",
      "nbconvert_exporter": "python",
      "pygments_lexer": "ipython3",
      "version": "3.9.0"
    },
    "vscode": {
      "interpreter": {
        "hash": "c2d62301771a3da37c7fb92c4e01d142f00fbb39cc09ff2b533b9257ea84d77f"
      }
    }
  },
  "nbformat": 4,
  "nbformat_minor": 0
}
