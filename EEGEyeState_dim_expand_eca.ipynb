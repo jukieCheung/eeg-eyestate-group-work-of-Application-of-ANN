{
  "cells": [
    {
      "cell_type": "code",
      "execution_count": 1,
      "metadata": {
        "colab": {},
        "colab_type": "code",
        "id": "z8dL4rrQSXbL"
      },
      "outputs": [
        {
          "name": "stderr",
          "output_type": "stream",
          "text": [
            "/home/jukie/anaconda3/envs/py37/lib/python3.7/site-packages/tqdm/auto.py:22: TqdmWarning: IProgress not found. Please update jupyter and ipywidgets. See https://ipywidgets.readthedocs.io/en/stable/user_install.html\n",
            "  from .autonotebook import tqdm as notebook_tqdm\n"
          ]
        }
      ],
      "source": [
        "import torch\n",
        "import torch.nn as nn\n",
        "import torch.nn.functional as F\n",
        "import torch.optim as optim\n",
        "import torch.utils.data as data\n",
        "\n",
        "import torchvision.transforms as transforms\n",
        "import torchvision.datasets as datasets\n",
        "\n",
        "from sklearn import metrics\n",
        "from sklearn import decomposition\n",
        "from sklearn import manifold\n",
        "from sklearn.preprocessing import StandardScaler    \n",
        "from sklearn.model_selection import train_test_split\n",
        "from sklearn.metrics import confusion_matrix, classification_report\n",
        "from torch.utils.data import Dataset, DataLoader\n",
        "import matplotlib.pyplot as plt\n",
        "import numpy as np\n",
        "import pandas as pd\n",
        "import copy\n",
        "import random\n",
        "import time\n",
        "\n",
        "SEED = 1234\n",
        "\n",
        "random.seed(SEED)\n",
        "np.random.seed(SEED)\n",
        "torch.manual_seed(SEED)\n",
        "torch.cuda.manual_seed(SEED)\n",
        "torch.backends.cudnn.deterministic = True"
      ]
    },
    {
      "cell_type": "code",
      "execution_count": 2,
      "metadata": {
        "colab": {
          "base_uri": "https://localhost:8080/",
          "height": 204
        },
        "colab_type": "code",
        "id": "ny8CDFfPSlnP",
        "outputId": "79488470-2259-430d-87c9-db6360d49302"
      },
      "outputs": [],
      "source": [
        "df = pd.read_csv('/home/jukie/Project/eeg-eye-state-classification-master/eeg_eye_state.csv', skiprows = [i for i in range(19)], header=None)"
      ]
    },
    {
      "cell_type": "code",
      "execution_count": 3,
      "metadata": {
        "colab": {},
        "colab_type": "code",
        "id": "Ueg0srJ0SxkY"
      },
      "outputs": [],
      "source": [
        "X = df.loc[:,0:13]\n",
        "y = df.loc[:,14:]"
      ]
    },
    {
      "cell_type": "code",
      "execution_count": 4,
      "metadata": {
        "colab": {},
        "colab_type": "code",
        "id": "0hWfjogVTZkk"
      },
      "outputs": [],
      "source": [
        "X_train, X_test, y_train, y_test = train_test_split(X, y, test_size=0.15\n",
        "#, random_state=1234\n",
        ")"
      ]
    },
    {
      "cell_type": "code",
      "execution_count": 5,
      "metadata": {
        "colab": {},
        "colab_type": "code",
        "id": "g0KL-EHyTtER"
      },
      "outputs": [],
      "source": [
        "scaler = StandardScaler()\n",
        "X_train = scaler.fit_transform(X_train)\n",
        "X_test = scaler.fit_transform(X_test)"
      ]
    },
    {
      "cell_type": "code",
      "execution_count": 6,
      "metadata": {
        "colab": {
          "base_uri": "https://localhost:8080/",
          "height": 51
        },
        "colab_type": "code",
        "id": "Y6UeoQf-TTvM",
        "outputId": "b9822a98-85dd-4edb-e557-54677264c229"
      },
      "outputs": [
        {
          "name": "stdout",
          "output_type": "stream",
          "text": [
            "Training Data has 12717 examples\n",
            "Testing Data has 2245 examples\n"
          ]
        }
      ],
      "source": [
        "print(f\"Training Data has {len(X_train)} examples\")\n",
        "print(f\"Testing Data has {len(X_test)} examples\")"
      ]
    },
    {
      "cell_type": "code",
      "execution_count": 7,
      "metadata": {
        "colab": {
          "base_uri": "https://localhost:8080/",
          "height": 238
        },
        "colab_type": "code",
        "id": "PVs6v3Xk--S4",
        "outputId": "146e656e-cb7a-40b2-fcac-f9f5eb4c75f6"
      },
      "outputs": [],
      "source": [
        "y_train = y_train.to_numpy()\n"
      ]
    },
    {
      "cell_type": "code",
      "execution_count": 8,
      "metadata": {},
      "outputs": [],
      "source": [
        "y_test =y_test.to_numpy()"
      ]
    },
    {
      "cell_type": "code",
      "execution_count": 9,
      "metadata": {
        "colab": {},
        "colab_type": "code",
        "id": "4g4cmdfRURYC"
      },
      "outputs": [],
      "source": [
        "## Train Data\n",
        "class trainData(Dataset):\n",
        "    \n",
        "    def __init__(self, X_data, y_data):\n",
        "        self.X_data = X_data\n",
        "        self.y_data = y_data\n",
        "        \n",
        "    def __getitem__(self, index):\n",
        "        return self.X_data[index], self.y_data[index]\n",
        "        \n",
        "    def __len__ (self):\n",
        "        return len(self.X_data)\n",
        "\n",
        "\n",
        "train_data = trainData(torch.FloatTensor(X_train), \n",
        "                       torch.FloatTensor(y_train))\n",
        "## Test Data    \n",
        "class testData(Dataset):\n",
        "    \n",
        "    def __init__(self, X_data, y_data):\n",
        "        self.X_data = X_data\n",
        "        self.y_data = y_data\n",
        "        \n",
        "    def __getitem__(self, index):\n",
        "        return self.X_data[index], self.y_data[index]\n",
        "        \n",
        "    def __len__ (self):\n",
        "        return len(self.X_data)\n",
        "    \n",
        "\n",
        "test_data = testData(torch.FloatTensor(X_test),\n",
        "                    torch.FloatTensor(y_test))"
      ]
    },
    {
      "cell_type": "code",
      "execution_count": 10,
      "metadata": {},
      "outputs": [],
      "source": [
        "class accData(Dataset):\n",
        "    \n",
        "    def __init__(self, X_data):\n",
        "        self.X_data = X_data\n",
        "        \n",
        "    def __getitem__(self, index):\n",
        "        return self.X_data[index]\n",
        "        \n",
        "    def __len__ (self):\n",
        "        return len(self.X_data)\n",
        "    \n",
        "\n",
        "acc_data = accData(torch.FloatTensor(X_test))"
      ]
    },
    {
      "cell_type": "code",
      "execution_count": 11,
      "metadata": {
        "colab": {},
        "colab_type": "code",
        "id": "QlGXd0e1_yAl"
      },
      "outputs": [],
      "source": [
        "# Create DataLoaders for torch\n",
        "BATCH_SIZE = 64\n",
        "LEARNING_RATE=0.001\n",
        "EPOCHS=100\n",
        "\n",
        "train_loader = DataLoader(dataset=train_data, batch_size=BATCH_SIZE, shuffle=True)\n",
        "test_loader = DataLoader(dataset=test_data, batch_size=BATCH_SIZE,)\n",
        "acc_loader = DataLoader(dataset=acc_data, batch_size=1)"
      ]
    },
    {
      "cell_type": "code",
      "execution_count": 12,
      "metadata": {},
      "outputs": [],
      "source": [
        "class eca_layer(nn.Module):\n",
        "    \"\"\"Constructs a ECA module.\n",
        "\n",
        "    Args:\n",
        "        channel: Number of channels of the input feature map\n",
        "        k_size: Adaptive selection of kernel size\n",
        "    \"\"\"\n",
        "    def __init__(self, channel, k_size=3):\n",
        "        super(eca_layer, self).__init__()\n",
        "        self.avg_pool = nn.AdaptiveAvgPool2d(1)\n",
        "        self.conv = nn.Conv1d(1, 1, kernel_size=k_size, padding=(k_size - 1) // 2, bias=False) \n",
        "        self.sigmoid = nn.Sigmoid()\n",
        "\n",
        "    def forward(self, x):\n",
        "        # feature descriptor on the global spatial information\n",
        "        y = self.avg_pool(x)\n",
        "\n",
        "        # Two different branches of ECA module\n",
        "        y = self.conv(y.squeeze(-1).transpose(-1, -2)).transpose(-1, -2).unsqueeze(-1)\n",
        "\n",
        "        # Multi-scale information fusion\n",
        "        y = self.sigmoid(y)\n",
        "\n",
        "        return x * y.expand_as(x)"
      ]
    },
    {
      "cell_type": "code",
      "execution_count": 13,
      "metadata": {
        "colab": {},
        "colab_type": "code",
        "id": "rJde-qwhD7Nc"
      },
      "outputs": [],
      "source": [
        "class MLPNetwork(nn.Module):\n",
        "    def __init__(self):\n",
        "        super().__init__()\n",
        "        self.dim = nn.Linear(1, 64)\n",
        "        self.layer_1 = nn.Linear(64, 128) \n",
        "        self.layer_2 = nn.Linear(128, 128)\n",
        "        self.eca1 = eca_layer(64,3)\n",
        "        self.eca2 = eca_layer(256,3)\n",
        "        self.flat = nn.Sequential(\n",
        "            nn.Linear(1792,128),\n",
        "            #nn.Dropout(p=0.5),\n",
        "            nn.ReLU())\n",
        "        self.layer_out = nn.Linear(128, 1)\n",
        "        \n",
        "        self.leakyRelu = nn.LeakyReLU()\n",
        "        self.dropout = nn.Dropout(p=0.25)\n",
        "        self.batchnorm1 = nn.BatchNorm1d(14)\n",
        "        self.batchnorm2 = nn.BatchNorm1d(14)\n",
        "\n",
        "    def forward(self, x):\n",
        "        x = torch.unsqueeze(x,2)\n",
        "        x = self.dim(x)\n",
        "        x = self.eca1(x)\n",
        "        x = self.leakyRelu(self.layer_1(x))\n",
        "        x = self.batchnorm1(x)\n",
        "        x = self.dropout(x)\n",
        "        x = self.leakyRelu(self.layer_2(x))\n",
        "        x = self.batchnorm2(x)\n",
        "        x = self.eca2(x)\n",
        "        x = self.dropout(x)\n",
        "        x = torch.flatten(x,1)\n",
        "        x = self.flat(x)\n",
        "        x = self.layer_out(x)\n",
        "        return x\n",
        "\n",
        "model = MLPNetwork()"
      ]
    },
    {
      "cell_type": "code",
      "execution_count": 14,
      "metadata": {
        "colab": {
          "base_uri": "https://localhost:8080/",
          "height": 34
        },
        "colab_type": "code",
        "id": "ChKT8fRTJeCV",
        "outputId": "b544f116-4523-44f8-ae9c-7320a6067510"
      },
      "outputs": [
        {
          "name": "stdout",
          "output_type": "stream",
          "text": [
            "The model has 254,655 trainable parameters\n"
          ]
        }
      ],
      "source": [
        "def count_parameters(model):\n",
        "    return sum(p.numel() for p in model.parameters() if p.requires_grad)\n",
        "print(f'The model has {count_parameters(model):,} trainable parameters')"
      ]
    },
    {
      "cell_type": "code",
      "execution_count": 15,
      "metadata": {
        "colab": {},
        "colab_type": "code",
        "id": "0T1eGSRpH4bW"
      },
      "outputs": [],
      "source": [
        "optimizer = optim.Adam(model.parameters(), lr=LEARNING_RATE, weight_decay=5e-4)\n",
        "criterion = nn.BCEWithLogitsLoss()\n",
        "device = torch.device('cuda:0')"
      ]
    },
    {
      "cell_type": "code",
      "execution_count": 16,
      "metadata": {
        "colab": {},
        "colab_type": "code",
        "id": "ROQMjs0jLmVQ"
      },
      "outputs": [],
      "source": [
        "model = model.to(device)\n",
        "criterion = criterion.to(device)"
      ]
    },
    {
      "cell_type": "code",
      "execution_count": 17,
      "metadata": {
        "colab": {},
        "colab_type": "code",
        "id": "0fYPzjCRU4Jp"
      },
      "outputs": [],
      "source": [
        "def accuracy(y_pred, y_test):\n",
        "    y_pred_tag = torch.round(torch.sigmoid(y_pred))\n",
        "\n",
        "    correct_results_sum = (y_pred_tag == y_test).sum().float()\n",
        "    acc = correct_results_sum/y_test.shape[0]\n",
        "    acc = torch.round(acc * 100)\n",
        "    \n",
        "    return acc"
      ]
    },
    {
      "cell_type": "code",
      "execution_count": 27,
      "metadata": {
        "colab": {
          "base_uri": "https://localhost:8080/",
          "height": 867
        },
        "colab_type": "code",
        "id": "qogO4Jw3U_9q",
        "outputId": "dd31b4c3-d072-4409-b749-4f83e72e88c1"
      },
      "outputs": [
        {
          "name": "stdout",
          "output_type": "stream",
          "text": [
            "Epoch 001: | Loss: 0.46582 | Acc: 76.920\n",
            "Epoch 001: | tLoss: 0.60830 | tAcc: 68.472\n",
            "Epoch 002: | Loss: 0.47231 | Acc: 76.824\n",
            "Epoch 002: | tLoss: 0.59249 | tAcc: 67.556\n",
            "Epoch 003: | Loss: 0.46509 | Acc: 77.271\n",
            "Epoch 003: | tLoss: 0.66690 | tAcc: 68.917\n",
            "Epoch 004: | Loss: 0.46573 | Acc: 77.437\n",
            "Epoch 004: | tLoss: 0.56636 | tAcc: 71.083\n",
            "Epoch 005: | Loss: 0.47182 | Acc: 76.920\n",
            "Epoch 005: | tLoss: 0.68242 | tAcc: 67.444\n",
            "Epoch 006: | Loss: 0.47343 | Acc: 76.693\n",
            "Epoch 006: | tLoss: 0.71469 | tAcc: 65.000\n",
            "Epoch 007: | Loss: 0.47405 | Acc: 76.874\n",
            "Epoch 007: | tLoss: 0.61668 | tAcc: 71.528\n",
            "Epoch 008: | Loss: 0.46992 | Acc: 77.005\n",
            "Epoch 008: | tLoss: 0.58115 | tAcc: 69.000\n",
            "Epoch 009: | Loss: 0.46998 | Acc: 77.035\n",
            "Epoch 009: | tLoss: 0.65384 | tAcc: 65.139\n",
            "Epoch 010: | Loss: 0.47020 | Acc: 77.246\n",
            "Epoch 010: | tLoss: 0.69493 | tAcc: 68.889\n",
            "Epoch 011: | Loss: 0.46955 | Acc: 77.040\n",
            "Epoch 011: | tLoss: 0.69307 | tAcc: 68.861\n",
            "Epoch 012: | Loss: 0.47155 | Acc: 76.874\n",
            "Epoch 012: | tLoss: 0.60715 | tAcc: 70.750\n",
            "Epoch 013: | Loss: 0.46569 | Acc: 77.246\n",
            "Epoch 013: | tLoss: 0.66821 | tAcc: 69.167\n",
            "Epoch 014: | Loss: 0.47536 | Acc: 76.251\n",
            "Epoch 014: | tLoss: 0.67552 | tAcc: 68.528\n",
            "Epoch 015: | Loss: 0.47060 | Acc: 76.985\n",
            "Epoch 015: | tLoss: 0.67529 | tAcc: 67.472\n",
            "Epoch 016: | Loss: 0.47324 | Acc: 77.025\n",
            "Epoch 016: | tLoss: 0.67196 | tAcc: 68.389\n",
            "Epoch 017: | Loss: 0.46999 | Acc: 77.211\n",
            "Epoch 017: | tLoss: 0.67203 | tAcc: 68.722\n",
            "Epoch 018: | Loss: 0.47418 | Acc: 76.849\n",
            "Epoch 018: | tLoss: 0.72812 | tAcc: 67.194\n",
            "Epoch 019: | Loss: 0.47082 | Acc: 76.889\n",
            "Epoch 019: | tLoss: 0.68505 | tAcc: 69.056\n",
            "Epoch 020: | Loss: 0.46888 | Acc: 77.106\n",
            "Epoch 020: | tLoss: 0.64550 | tAcc: 67.528\n",
            "Epoch 021: | Loss: 0.46944 | Acc: 77.251\n",
            "Epoch 021: | tLoss: 0.56611 | tAcc: 69.500\n",
            "Epoch 022: | Loss: 0.47031 | Acc: 76.874\n",
            "Epoch 022: | tLoss: 0.70198 | tAcc: 70.028\n",
            "Epoch 023: | Loss: 0.46747 | Acc: 77.261\n",
            "Epoch 023: | tLoss: 0.68577 | tAcc: 69.194\n",
            "Epoch 024: | Loss: 0.47312 | Acc: 76.925\n",
            "Epoch 024: | tLoss: 0.67161 | tAcc: 69.167\n",
            "Epoch 025: | Loss: 0.46710 | Acc: 76.955\n",
            "Epoch 025: | tLoss: 0.70468 | tAcc: 68.250\n",
            "Epoch 026: | Loss: 0.47013 | Acc: 76.578\n",
            "Epoch 026: | tLoss: 0.56404 | tAcc: 69.583\n",
            "Epoch 027: | Loss: 0.47075 | Acc: 76.653\n",
            "Epoch 027: | tLoss: 0.66946 | tAcc: 70.250\n",
            "Epoch 028: | Loss: 0.47277 | Acc: 76.809\n",
            "Epoch 028: | tLoss: 0.55939 | tAcc: 69.139\n",
            "Epoch 029: | Loss: 0.46891 | Acc: 76.854\n",
            "Epoch 029: | tLoss: 0.54071 | tAcc: 71.500\n",
            "Epoch 030: | Loss: 0.46929 | Acc: 76.673\n",
            "Epoch 030: | tLoss: 0.59553 | tAcc: 67.944\n",
            "Epoch 031: | Loss: 0.47103 | Acc: 76.990\n",
            "Epoch 031: | tLoss: 0.67361 | tAcc: 68.694\n",
            "Epoch 032: | Loss: 0.46917 | Acc: 76.503\n",
            "Epoch 032: | tLoss: 0.59434 | tAcc: 68.111\n",
            "Epoch 033: | Loss: 0.47397 | Acc: 76.623\n",
            "Epoch 033: | tLoss: 0.57754 | tAcc: 69.861\n",
            "Epoch 034: | Loss: 0.46969 | Acc: 77.176\n",
            "Epoch 034: | tLoss: 0.62062 | tAcc: 68.306\n",
            "Epoch 035: | Loss: 0.46986 | Acc: 76.784\n",
            "Epoch 035: | tLoss: 0.56065 | tAcc: 70.139\n",
            "Epoch 036: | Loss: 0.47558 | Acc: 76.844\n",
            "Epoch 036: | tLoss: 0.64046 | tAcc: 68.722\n",
            "Epoch 037: | Loss: 0.46691 | Acc: 77.347\n",
            "Epoch 037: | tLoss: 0.67203 | tAcc: 69.083\n",
            "Epoch 038: | Loss: 0.46973 | Acc: 77.010\n",
            "Epoch 038: | tLoss: 0.58658 | tAcc: 67.806\n",
            "Epoch 039: | Loss: 0.47361 | Acc: 76.588\n",
            "Epoch 039: | tLoss: 0.57884 | tAcc: 68.167\n",
            "Epoch 040: | Loss: 0.47104 | Acc: 77.005\n",
            "Epoch 040: | tLoss: 0.62640 | tAcc: 65.722\n",
            "Epoch 041: | Loss: 0.46783 | Acc: 77.080\n",
            "Epoch 041: | tLoss: 0.55175 | tAcc: 69.389\n",
            "Epoch 042: | Loss: 0.46638 | Acc: 77.095\n",
            "Epoch 042: | tLoss: 0.67305 | tAcc: 65.833\n",
            "Epoch 043: | Loss: 0.46830 | Acc: 77.397\n",
            "Epoch 043: | tLoss: 0.60939 | tAcc: 67.333\n",
            "Epoch 044: | Loss: 0.47005 | Acc: 77.010\n",
            "Epoch 044: | tLoss: 0.56218 | tAcc: 69.972\n",
            "Epoch 045: | Loss: 0.46935 | Acc: 76.879\n",
            "Epoch 045: | tLoss: 0.65854 | tAcc: 68.972\n",
            "Epoch 046: | Loss: 0.47193 | Acc: 76.769\n",
            "Epoch 046: | tLoss: 0.59143 | tAcc: 65.361\n",
            "Epoch 047: | Loss: 0.46671 | Acc: 77.131\n",
            "Epoch 047: | tLoss: 0.56176 | tAcc: 70.167\n",
            "Epoch 048: | Loss: 0.46791 | Acc: 77.131\n",
            "Epoch 048: | tLoss: 0.66721 | tAcc: 67.750\n",
            "Epoch 049: | Loss: 0.47328 | Acc: 76.980\n",
            "Epoch 049: | tLoss: 0.67175 | tAcc: 69.528\n",
            "Epoch 050: | Loss: 0.46961 | Acc: 76.980\n",
            "Epoch 050: | tLoss: 0.59556 | tAcc: 70.528\n",
            "Epoch 051: | Loss: 0.47403 | Acc: 76.452\n",
            "Epoch 051: | tLoss: 0.61495 | tAcc: 65.639\n",
            "Epoch 052: | Loss: 0.47114 | Acc: 76.814\n",
            "Epoch 052: | tLoss: 0.69549 | tAcc: 67.444\n",
            "Epoch 053: | Loss: 0.46929 | Acc: 77.005\n",
            "Epoch 053: | tLoss: 0.62873 | tAcc: 70.472\n",
            "Epoch 054: | Loss: 0.47173 | Acc: 76.754\n",
            "Epoch 054: | tLoss: 0.56901 | tAcc: 68.833\n",
            "Epoch 055: | Loss: 0.46566 | Acc: 77.382\n",
            "Epoch 055: | tLoss: 0.57500 | tAcc: 70.944\n",
            "Epoch 056: | Loss: 0.46996 | Acc: 77.070\n",
            "Epoch 056: | tLoss: 0.65579 | tAcc: 65.500\n",
            "Epoch 057: | Loss: 0.47286 | Acc: 76.583\n",
            "Epoch 057: | tLoss: 0.69280 | tAcc: 66.083\n",
            "Epoch 058: | Loss: 0.46893 | Acc: 77.231\n",
            "Epoch 058: | tLoss: 0.66971 | tAcc: 70.000\n",
            "Epoch 059: | Loss: 0.47330 | Acc: 77.251\n",
            "Epoch 059: | tLoss: 0.67716 | tAcc: 68.056\n",
            "Epoch 060: | Loss: 0.46968 | Acc: 76.894\n",
            "Epoch 060: | tLoss: 0.60065 | tAcc: 68.917\n",
            "Epoch 061: | Loss: 0.47099 | Acc: 76.553\n",
            "Epoch 061: | tLoss: 0.58171 | tAcc: 70.139\n",
            "Epoch 062: | Loss: 0.46727 | Acc: 77.025\n",
            "Epoch 062: | tLoss: 0.61787 | tAcc: 68.889\n",
            "Epoch 063: | Loss: 0.46720 | Acc: 77.437\n",
            "Epoch 063: | tLoss: 0.71526 | tAcc: 68.750\n",
            "Epoch 064: | Loss: 0.46434 | Acc: 77.246\n",
            "Epoch 064: | tLoss: 0.57095 | tAcc: 68.444\n",
            "Epoch 065: | Loss: 0.47753 | Acc: 76.508\n",
            "Epoch 065: | tLoss: 0.68458 | tAcc: 68.444\n",
            "Epoch 066: | Loss: 0.47285 | Acc: 76.859\n",
            "Epoch 066: | tLoss: 0.61739 | tAcc: 68.722\n",
            "Epoch 067: | Loss: 0.47581 | Acc: 76.844\n",
            "Epoch 067: | tLoss: 0.79024 | tAcc: 66.944\n",
            "Epoch 068: | Loss: 0.46975 | Acc: 77.000\n",
            "Epoch 068: | tLoss: 0.65535 | tAcc: 69.694\n",
            "Epoch 069: | Loss: 0.46667 | Acc: 77.412\n",
            "Epoch 069: | tLoss: 0.69384 | tAcc: 69.250\n",
            "Epoch 070: | Loss: 0.47339 | Acc: 76.839\n",
            "Epoch 070: | tLoss: 0.62393 | tAcc: 69.028\n",
            "Epoch 071: | Loss: 0.46977 | Acc: 76.824\n",
            "Epoch 071: | tLoss: 0.64162 | tAcc: 67.639\n",
            "Epoch 072: | Loss: 0.47844 | Acc: 76.387\n",
            "Epoch 072: | tLoss: 0.58061 | tAcc: 66.778\n",
            "Epoch 073: | Loss: 0.46903 | Acc: 77.025\n",
            "Epoch 073: | tLoss: 0.74979 | tAcc: 68.500\n",
            "Epoch 074: | Loss: 0.46754 | Acc: 77.141\n",
            "Epoch 074: | tLoss: 0.67301 | tAcc: 67.472\n",
            "Epoch 075: | Loss: 0.47131 | Acc: 77.020\n",
            "Epoch 075: | tLoss: 0.73067 | tAcc: 67.250\n",
            "Epoch 076: | Loss: 0.46907 | Acc: 76.980\n",
            "Epoch 076: | tLoss: 0.69147 | tAcc: 67.778\n",
            "Epoch 077: | Loss: 0.47142 | Acc: 76.894\n",
            "Epoch 077: | tLoss: 0.57605 | tAcc: 68.833\n",
            "Epoch 078: | Loss: 0.47080 | Acc: 76.583\n",
            "Epoch 078: | tLoss: 0.63045 | tAcc: 69.250\n",
            "Epoch 079: | Loss: 0.47210 | Acc: 76.613\n",
            "Epoch 079: | tLoss: 0.66551 | tAcc: 69.667\n",
            "Epoch 080: | Loss: 0.47265 | Acc: 76.648\n",
            "Epoch 080: | tLoss: 0.61512 | tAcc: 69.000\n",
            "Epoch 081: | Loss: 0.47154 | Acc: 76.985\n",
            "Epoch 081: | tLoss: 0.68359 | tAcc: 69.500\n",
            "Epoch 082: | Loss: 0.47251 | Acc: 76.839\n",
            "Epoch 082: | tLoss: 0.71125 | tAcc: 68.111\n",
            "Epoch 083: | Loss: 0.47263 | Acc: 76.693\n",
            "Epoch 083: | tLoss: 0.63343 | tAcc: 69.889\n",
            "Epoch 084: | Loss: 0.47276 | Acc: 76.834\n",
            "Epoch 084: | tLoss: 0.67010 | tAcc: 68.694\n",
            "Epoch 085: | Loss: 0.46956 | Acc: 77.372\n",
            "Epoch 085: | tLoss: 0.64945 | tAcc: 68.306\n",
            "Epoch 086: | Loss: 0.47245 | Acc: 76.593\n",
            "Epoch 086: | tLoss: 0.55263 | tAcc: 70.222\n",
            "Epoch 087: | Loss: 0.47285 | Acc: 76.884\n",
            "Epoch 087: | tLoss: 0.60167 | tAcc: 69.083\n",
            "Epoch 088: | Loss: 0.47171 | Acc: 76.970\n",
            "Epoch 088: | tLoss: 0.56231 | tAcc: 67.750\n",
            "Epoch 089: | Loss: 0.47042 | Acc: 76.910\n",
            "Epoch 089: | tLoss: 0.58619 | tAcc: 68.278\n",
            "Epoch 090: | Loss: 0.46895 | Acc: 77.015\n",
            "Epoch 090: | tLoss: 0.63576 | tAcc: 70.639\n",
            "Epoch 091: | Loss: 0.46529 | Acc: 77.261\n",
            "Epoch 091: | tLoss: 0.71610 | tAcc: 69.639\n",
            "Epoch 092: | Loss: 0.47431 | Acc: 76.920\n",
            "Epoch 092: | tLoss: 0.63943 | tAcc: 70.500\n",
            "Epoch 093: | Loss: 0.47005 | Acc: 77.281\n",
            "Epoch 093: | tLoss: 0.57270 | tAcc: 69.194\n",
            "Epoch 094: | Loss: 0.47282 | Acc: 76.935\n",
            "Epoch 094: | tLoss: 0.57052 | tAcc: 67.694\n",
            "Epoch 095: | Loss: 0.47192 | Acc: 76.764\n",
            "Epoch 095: | tLoss: 0.73413 | tAcc: 68.139\n",
            "Epoch 096: | Loss: 0.47007 | Acc: 76.869\n",
            "Epoch 096: | tLoss: 0.65909 | tAcc: 65.000\n",
            "Epoch 097: | Loss: 0.47277 | Acc: 76.693\n",
            "Epoch 097: | tLoss: 0.58756 | tAcc: 70.306\n",
            "Epoch 098: | Loss: 0.47340 | Acc: 76.925\n",
            "Epoch 098: | tLoss: 0.57868 | tAcc: 69.639\n",
            "Epoch 099: | Loss: 0.46738 | Acc: 77.111\n",
            "Epoch 099: | tLoss: 0.63044 | tAcc: 68.944\n",
            "Epoch 100: | Loss: 0.47078 | Acc: 76.668\n",
            "Epoch 100: | tLoss: 0.57155 | tAcc: 68.750\n"
          ]
        }
      ],
      "source": [
        "#model.train()\n",
        "for e in range(1, EPOCHS+1):\n",
        "    epoch_loss = 0\n",
        "    epoch_acc = 0\n",
        "    tepoch_loss = 0\n",
        "    tepoch_acc = 0\n",
        "    model.train()\n",
        "    for X_batch, y_batch in train_loader:\n",
        "        \n",
        "        X_batch, y_batch = X_batch.to(device), y_batch.to(device)\n",
        "        optimizer.zero_grad()\n",
        "        \n",
        "        y_pred = model(X_batch)\n",
        "        loss = criterion(y_pred, y_batch)\n",
        "        acc = accuracy(y_pred, y_batch)\n",
        "        \n",
        "        loss.backward()\n",
        "        optimizer.step()\n",
        "        \n",
        "        epoch_loss += loss.item()\n",
        "        epoch_acc += acc.item()\n",
        "        \n",
        "    model.eval()\n",
        "    for X_batch, y_batch in test_loader:\n",
        "        \n",
        "        X_batch, y_batch = X_batch.to(device), y_batch.to(device)\n",
        "\n",
        "        \n",
        "        y_pred = model(X_batch)\n",
        "        tloss = criterion(y_pred, y_batch)\n",
        "        tacc = accuracy(y_pred, y_batch)\n",
        "                \n",
        "        tepoch_loss += tloss.item()\n",
        "        tepoch_acc += tacc.item()\n",
        "        \n",
        "    print(f'Epoch {e+0:03}: | Loss: {epoch_loss/len(train_loader):.5f} | Acc: {epoch_acc/len(train_loader):.3f}')    \n",
        "    print(f'Epoch {e+0:03}: | tLoss: {tepoch_loss/len(test_loader):.5f} | tAcc: {tepoch_acc/len(test_loader):.3f}')"
      ]
    },
    {
      "cell_type": "code",
      "execution_count": null,
      "metadata": {},
      "outputs": [
        {
          "name": "stdout",
          "output_type": "stream",
          "text": [
            "Epoch 001: | Loss: 0.63653 | Acc: 62.591\n",
            "Epoch 001: | tLoss: 0.87253 | tAcc: 58.305\n",
            "Epoch 002: | Loss: 0.57491 | Acc: 69.778\n",
            "Epoch 002: | tLoss: 0.78046 | tAcc: 60.525\n",
            "Epoch 003: | Loss: 0.53977 | Acc: 71.847\n",
            "Epoch 003: | tLoss: 0.75252 | tAcc: 60.339\n",
            "Epoch 004: | Loss: 0.51897 | Acc: 74.097\n",
            "Epoch 004: | tLoss: 0.79355 | tAcc: 60.983\n",
            "Epoch 005: | Loss: 0.49895 | Acc: 75.415\n",
            "Epoch 005: | tLoss: 1.58813 | tAcc: 58.508\n",
            "Epoch 006: | Loss: 0.48755 | Acc: 76.097\n",
            "Epoch 006: | tLoss: 0.80177 | tAcc: 62.559\n",
            "Epoch 007: | Loss: 0.46786 | Acc: 77.659\n",
            "Epoch 007: | tLoss: 0.85773 | tAcc: 65.203\n",
            "Epoch 008: | Loss: 0.44878 | Acc: 78.330\n",
            "Epoch 008: | tLoss: 1.22177 | tAcc: 62.051\n",
            "Epoch 009: | Loss: 0.44350 | Acc: 78.540\n",
            "Epoch 009: | tLoss: 1.62378 | tAcc: 61.271\n",
            "Epoch 010: | Loss: 0.43550 | Acc: 79.773\n",
            "Epoch 010: | tLoss: 1.14529 | tAcc: 60.797\n",
            "Epoch 011: | Loss: 0.42088 | Acc: 80.216\n",
            "Epoch 011: | tLoss: 0.98188 | tAcc: 62.000\n",
            "Epoch 012: | Loss: 0.42173 | Acc: 80.182\n",
            "Epoch 012: | tLoss: 1.77694 | tAcc: 60.763\n",
            "Epoch 013: | Loss: 0.40512 | Acc: 81.199\n",
            "Epoch 013: | tLoss: 1.44694 | tAcc: 61.136\n",
            "Epoch 014: | Loss: 0.41222 | Acc: 80.960\n",
            "Epoch 014: | tLoss: 0.88525 | tAcc: 62.763\n",
            "Epoch 015: | Loss: 0.40612 | Acc: 81.119\n",
            "Epoch 015: | tLoss: 2.39662 | tAcc: 60.153\n",
            "Epoch 016: | Loss: 0.39858 | Acc: 81.506\n",
            "Epoch 016: | tLoss: 1.32683 | tAcc: 62.576\n",
            "Epoch 017: | Loss: 0.38801 | Acc: 82.284\n",
            "Epoch 017: | tLoss: 2.13273 | tAcc: 62.898\n",
            "Epoch 018: | Loss: 0.38340 | Acc: 82.341\n",
            "Epoch 018: | tLoss: 1.53206 | tAcc: 64.186\n",
            "Epoch 019: | Loss: 0.38299 | Acc: 82.330\n",
            "Epoch 019: | tLoss: 2.45695 | tAcc: 61.644\n",
            "Epoch 020: | Loss: 0.37689 | Acc: 82.830\n",
            "Epoch 020: | tLoss: 1.18081 | tAcc: 61.119\n",
            "Epoch 021: | Loss: 0.38425 | Acc: 82.239\n",
            "Epoch 021: | tLoss: 1.51403 | tAcc: 62.373\n",
            "Epoch 022: | Loss: 0.37008 | Acc: 83.199\n",
            "Epoch 022: | tLoss: 1.57941 | tAcc: 61.576\n",
            "Epoch 023: | Loss: 0.36929 | Acc: 83.017\n",
            "Epoch 023: | tLoss: 1.61257 | tAcc: 62.034\n",
            "Epoch 024: | Loss: 0.36760 | Acc: 82.955\n",
            "Epoch 024: | tLoss: 2.04547 | tAcc: 61.814\n",
            "Epoch 025: | Loss: 0.37089 | Acc: 83.227\n",
            "Epoch 025: | tLoss: 3.22993 | tAcc: 61.407\n",
            "Epoch 026: | Loss: 0.36261 | Acc: 83.472\n",
            "Epoch 026: | tLoss: 2.59606 | tAcc: 63.017\n",
            "Epoch 027: | Loss: 0.36859 | Acc: 83.494\n",
            "Epoch 027: | tLoss: 3.20221 | tAcc: 60.627\n",
            "Epoch 028: | Loss: 0.36143 | Acc: 83.682\n",
            "Epoch 028: | tLoss: 2.41627 | tAcc: 62.881\n",
            "Epoch 029: | Loss: 0.36202 | Acc: 83.602\n",
            "Epoch 029: | tLoss: 2.42847 | tAcc: 61.966\n",
            "Epoch 030: | Loss: 0.35365 | Acc: 84.068\n",
            "Epoch 030: | tLoss: 1.93737 | tAcc: 62.102\n",
            "Epoch 031: | Loss: 0.35571 | Acc: 84.165\n",
            "Epoch 031: | tLoss: 3.28486 | tAcc: 61.424\n",
            "Epoch 032: | Loss: 0.34617 | Acc: 84.636\n",
            "Epoch 032: | tLoss: 2.71734 | tAcc: 61.627\n",
            "Epoch 033: | Loss: 0.35935 | Acc: 84.102\n",
            "Epoch 033: | tLoss: 1.97522 | tAcc: 61.593\n",
            "Epoch 034: | Loss: 0.35202 | Acc: 83.790\n",
            "Epoch 034: | tLoss: 1.94864 | tAcc: 61.102\n",
            "Epoch 035: | Loss: 0.33961 | Acc: 84.915\n",
            "Epoch 035: | tLoss: 1.66801 | tAcc: 65.644\n",
            "Epoch 036: | Loss: 0.34269 | Acc: 84.881\n",
            "Epoch 036: | tLoss: 1.50207 | tAcc: 63.169\n",
            "Epoch 037: | Loss: 0.35204 | Acc: 83.852\n",
            "Epoch 037: | tLoss: 1.29039 | tAcc: 64.678\n",
            "Epoch 038: | Loss: 0.35039 | Acc: 84.830\n",
            "Epoch 038: | tLoss: 3.08079 | tAcc: 61.017\n",
            "Epoch 039: | Loss: 0.33922 | Acc: 84.903\n",
            "Epoch 039: | tLoss: 2.35285 | tAcc: 62.051\n",
            "Epoch 040: | Loss: 0.34467 | Acc: 84.790\n",
            "Epoch 040: | tLoss: 2.60634 | tAcc: 64.763\n",
            "Epoch 041: | Loss: 0.33840 | Acc: 85.062\n",
            "Epoch 041: | tLoss: 2.96813 | tAcc: 61.678\n",
            "Epoch 042: | Loss: 0.34596 | Acc: 84.705\n",
            "Epoch 042: | tLoss: 2.35761 | tAcc: 62.051\n",
            "Epoch 043: | Loss: 0.33928 | Acc: 84.909\n",
            "Epoch 043: | tLoss: 1.99256 | tAcc: 63.475\n",
            "Epoch 044: | Loss: 0.33562 | Acc: 85.080\n",
            "Epoch 044: | tLoss: 1.41041 | tAcc: 67.051\n",
            "Epoch 045: | Loss: 0.34329 | Acc: 84.358\n",
            "Epoch 045: | tLoss: 2.97816 | tAcc: 62.136\n",
            "Epoch 046: | Loss: 0.33380 | Acc: 85.011\n",
            "Epoch 046: | tLoss: 1.65500 | tAcc: 66.119\n",
            "Epoch 047: | Loss: 0.33779 | Acc: 85.244\n",
            "Epoch 047: | tLoss: 1.71982 | tAcc: 60.966\n",
            "Epoch 048: | Loss: 0.33354 | Acc: 85.148\n",
            "Epoch 048: | tLoss: 2.87632 | tAcc: 61.068\n",
            "Epoch 049: | Loss: 0.32800 | Acc: 85.528\n",
            "Epoch 049: | tLoss: 1.87493 | tAcc: 62.949\n",
            "Epoch 050: | Loss: 0.33144 | Acc: 85.534\n",
            "Epoch 050: | tLoss: 3.11405 | tAcc: 58.678\n"
          ]
        }
      ],
      "source": [
        "#model.train()\n",
        "for e in range(1, EPOCHS+1):\n",
        "    epoch_loss = 0\n",
        "    epoch_acc = 0\n",
        "    tepoch_loss = 0\n",
        "    tepoch_acc = 0\n",
        "    model.train()\n",
        "    for X_batch, y_batch in train_loader:\n",
        "        \n",
        "        X_batch, y_batch = X_batch.to(device), y_batch.to(device)\n",
        "        optimizer.zero_grad()\n",
        "        \n",
        "        y_pred = model(X_batch)\n",
        "        loss = criterion(y_pred, y_batch)\n",
        "        acc = accuracy(y_pred, y_batch)\n",
        "        \n",
        "        loss.backward()\n",
        "        optimizer.step()\n",
        "        \n",
        "        epoch_loss += loss.item()\n",
        "        epoch_acc += acc.item()\n",
        "        \n",
        "    model.eval()\n",
        "    for X_batch, y_batch in test_loader:\n",
        "        \n",
        "        X_batch, y_batch = X_batch.to(device), y_batch.to(device)\n",
        "\n",
        "        \n",
        "        y_pred = model(X_batch)\n",
        "        tloss = criterion(y_pred, y_batch)\n",
        "        tacc = accuracy(y_pred, y_batch)\n",
        "                \n",
        "        tepoch_loss += tloss.item()\n",
        "        tepoch_acc += tacc.item()\n",
        "        \n",
        "    print(f'Epoch {e+0:03}: | Loss: {epoch_loss/len(train_loader):.5f} | Acc: {epoch_acc/len(train_loader):.3f}')    \n",
        "    print(f'Epoch {e+0:03}: | tLoss: {tepoch_loss/len(test_loader):.5f} | tAcc: {tepoch_acc/len(test_loader):.3f}')"
      ]
    },
    {
      "cell_type": "code",
      "execution_count": 25,
      "metadata": {
        "colab": {},
        "colab_type": "code",
        "id": "xtV7JwLkVOyF"
      },
      "outputs": [],
      "source": [
        "y_pred_list = []\n",
        "model.eval()\n",
        "with torch.no_grad():\n",
        "    for X_batch in acc_loader:\n",
        "        X_batch = X_batch.to(device)\n",
        "        y_test_pred = model(X_batch)\n",
        "        y_test_pred = torch.sigmoid(y_test_pred)\n",
        "        y_pred_tag = torch.round(y_test_pred)\n",
        "        y_pred_list.append(y_pred_tag.cpu().numpy())\n",
        "\n",
        "y_pred_list = [a.squeeze().tolist() for a in y_pred_list]"
      ]
    },
    {
      "cell_type": "code",
      "execution_count": 23,
      "metadata": {
        "colab": {
          "base_uri": "https://localhost:8080/",
          "height": 170
        },
        "colab_type": "code",
        "id": "k-o01zoaVRhB",
        "outputId": "741f81ad-9588-4631-e8ab-a7ec24eab2f5"
      },
      "outputs": [
        {
          "name": "stdout",
          "output_type": "stream",
          "text": [
            "              precision    recall  f1-score   support\n",
            "\n",
            "           0       0.74      0.72      0.73      1233\n",
            "           1       0.67      0.70      0.68      1012\n",
            "\n",
            "    accuracy                           0.71      2245\n",
            "   macro avg       0.71      0.71      0.71      2245\n",
            "weighted avg       0.71      0.71      0.71      2245\n",
            "\n"
          ]
        }
      ],
      "source": [
        "#加了eca特征维度扩张bp\n",
        "print(classification_report(y_test, y_pred_list))"
      ]
    },
    {
      "cell_type": "code",
      "execution_count": 26,
      "metadata": {
        "colab": {},
        "colab_type": "code",
        "id": "FwTICNwJV26T"
      },
      "outputs": [
        {
          "name": "stdout",
          "output_type": "stream",
          "text": [
            "              precision    recall  f1-score   support\n",
            "\n",
            "           0       0.74      0.72      0.73      1233\n",
            "           1       0.67      0.69      0.68      1012\n",
            "\n",
            "    accuracy                           0.71      2245\n",
            "   macro avg       0.70      0.70      0.70      2245\n",
            "weighted avg       0.71      0.71      0.71      2245\n",
            "\n"
          ]
        }
      ],
      "source": [
        "#加了eca特征维度扩张bp\n",
        "print(classification_report(y_test, y_pred_list))"
      ]
    },
    {
      "cell_type": "code",
      "execution_count": null,
      "metadata": {},
      "outputs": [
        {
          "name": "stdout",
          "output_type": "stream",
          "text": [
            "              precision    recall  f1-score   support\n",
            "\n",
            "           0       0.71      0.73      0.72      1233\n",
            "           1       0.66      0.63      0.65      1012\n",
            "\n",
            "    accuracy                           0.69      2245\n",
            "   macro avg       0.69      0.68      0.68      2245\n",
            "weighted avg       0.69      0.69      0.69      2245\n",
            "\n"
          ]
        }
      ],
      "source": [
        "#特征维度扩张bp\n",
        "print(classification_report(y_test, y_pred_list))"
      ]
    }
  ],
  "metadata": {
    "accelerator": "GPU",
    "colab": {
      "collapsed_sections": [],
      "name": "PyTorch EEGEyeState",
      "provenance": []
    },
    "kernelspec": {
      "display_name": "Python 3.9.0 ('mindspore_py39': conda)",
      "language": "python",
      "name": "python3"
    },
    "language_info": {
      "codemirror_mode": {
        "name": "ipython",
        "version": 3
      },
      "file_extension": ".py",
      "mimetype": "text/x-python",
      "name": "python",
      "nbconvert_exporter": "python",
      "pygments_lexer": "ipython3",
      "version": "3.9.0"
    },
    "vscode": {
      "interpreter": {
        "hash": "c2d62301771a3da37c7fb92c4e01d142f00fbb39cc09ff2b533b9257ea84d77f"
      }
    }
  },
  "nbformat": 4,
  "nbformat_minor": 0
}
