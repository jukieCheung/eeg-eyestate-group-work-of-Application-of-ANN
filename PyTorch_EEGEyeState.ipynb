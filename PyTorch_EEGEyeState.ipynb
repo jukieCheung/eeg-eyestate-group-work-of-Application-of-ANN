{
  "cells": [
    {
      "cell_type": "code",
      "execution_count": 1,
      "metadata": {
        "colab": {},
        "colab_type": "code",
        "id": "z8dL4rrQSXbL"
      },
      "outputs": [
        {
          "name": "stderr",
          "output_type": "stream",
          "text": [
            "/home/jukie/anaconda3/envs/py37/lib/python3.7/site-packages/tqdm/auto.py:22: TqdmWarning: IProgress not found. Please update jupyter and ipywidgets. See https://ipywidgets.readthedocs.io/en/stable/user_install.html\n",
            "  from .autonotebook import tqdm as notebook_tqdm\n"
          ]
        }
      ],
      "source": [
        "import torch\n",
        "import torch.nn as nn\n",
        "import torch.nn.functional as F\n",
        "import torch.optim as optim\n",
        "import torch.utils.data as data\n",
        "\n",
        "import torchvision.transforms as transforms\n",
        "import torchvision.datasets as datasets\n",
        "\n",
        "from sklearn import metrics\n",
        "from sklearn import decomposition\n",
        "from sklearn import manifold\n",
        "from sklearn.preprocessing import StandardScaler    \n",
        "from sklearn.model_selection import train_test_split\n",
        "from sklearn.metrics import confusion_matrix, classification_report\n",
        "from torch.utils.data import Dataset, DataLoader\n",
        "import matplotlib.pyplot as plt\n",
        "import numpy as np\n",
        "import pandas as pd\n",
        "import copy\n",
        "import random\n",
        "import time\n",
        "\n",
        "SEED = 1234\n",
        "\n",
        "random.seed(SEED)\n",
        "np.random.seed(SEED)\n",
        "torch.manual_seed(SEED)\n",
        "torch.cuda.manual_seed(SEED)\n",
        "torch.backends.cudnn.deterministic = True"
      ]
    },
    {
      "cell_type": "code",
      "execution_count": 2,
      "metadata": {
        "colab": {
          "base_uri": "https://localhost:8080/",
          "height": 204
        },
        "colab_type": "code",
        "id": "ny8CDFfPSlnP",
        "outputId": "79488470-2259-430d-87c9-db6360d49302"
      },
      "outputs": [],
      "source": [
        "df = pd.read_csv('/home/jukie/Project/eeg-eye-state-classification-master/eeg_eye_state.csv', skiprows = [i for i in range(19)], header=None)"
      ]
    },
    {
      "cell_type": "code",
      "execution_count": 3,
      "metadata": {},
      "outputs": [
        {
          "data": {
            "text/html": [
              "<div>\n",
              "<style scoped>\n",
              "    .dataframe tbody tr th:only-of-type {\n",
              "        vertical-align: middle;\n",
              "    }\n",
              "\n",
              "    .dataframe tbody tr th {\n",
              "        vertical-align: top;\n",
              "    }\n",
              "\n",
              "    .dataframe thead th {\n",
              "        text-align: right;\n",
              "    }\n",
              "</style>\n",
              "<table border=\"1\" class=\"dataframe\">\n",
              "  <thead>\n",
              "    <tr style=\"text-align: right;\">\n",
              "      <th></th>\n",
              "      <th>14</th>\n",
              "    </tr>\n",
              "  </thead>\n",
              "  <tbody>\n",
              "    <tr>\n",
              "      <th>0</th>\n",
              "      <td>0</td>\n",
              "    </tr>\n",
              "    <tr>\n",
              "      <th>1</th>\n",
              "      <td>0</td>\n",
              "    </tr>\n",
              "    <tr>\n",
              "      <th>2</th>\n",
              "      <td>0</td>\n",
              "    </tr>\n",
              "    <tr>\n",
              "      <th>3</th>\n",
              "      <td>0</td>\n",
              "    </tr>\n",
              "    <tr>\n",
              "      <th>4</th>\n",
              "      <td>0</td>\n",
              "    </tr>\n",
              "    <tr>\n",
              "      <th>...</th>\n",
              "      <td>...</td>\n",
              "    </tr>\n",
              "    <tr>\n",
              "      <th>14957</th>\n",
              "      <td>1</td>\n",
              "    </tr>\n",
              "    <tr>\n",
              "      <th>14958</th>\n",
              "      <td>1</td>\n",
              "    </tr>\n",
              "    <tr>\n",
              "      <th>14959</th>\n",
              "      <td>1</td>\n",
              "    </tr>\n",
              "    <tr>\n",
              "      <th>14960</th>\n",
              "      <td>1</td>\n",
              "    </tr>\n",
              "    <tr>\n",
              "      <th>14961</th>\n",
              "      <td>1</td>\n",
              "    </tr>\n",
              "  </tbody>\n",
              "</table>\n",
              "<p>14962 rows × 1 columns</p>\n",
              "</div>"
            ],
            "text/plain": [
              "       14\n",
              "0       0\n",
              "1       0\n",
              "2       0\n",
              "3       0\n",
              "4       0\n",
              "...    ..\n",
              "14957   1\n",
              "14958   1\n",
              "14959   1\n",
              "14960   1\n",
              "14961   1\n",
              "\n",
              "[14962 rows x 1 columns]"
            ]
          },
          "execution_count": 3,
          "metadata": {},
          "output_type": "execute_result"
        }
      ],
      "source": [
        "x = df.loc[:,14:]\n",
        "x"
      ]
    },
    {
      "cell_type": "code",
      "execution_count": 4,
      "metadata": {
        "colab": {},
        "colab_type": "code",
        "id": "Ueg0srJ0SxkY"
      },
      "outputs": [],
      "source": [
        "X = df.loc[:,0:13]\n",
        "y = df.loc[:,14:]"
      ]
    },
    {
      "cell_type": "code",
      "execution_count": 5,
      "metadata": {
        "colab": {},
        "colab_type": "code",
        "id": "0hWfjogVTZkk"
      },
      "outputs": [],
      "source": [
        "X_train, X_test, y_train, y_test = train_test_split(X, y, test_size=0.15, random_state=1234)"
      ]
    },
    {
      "cell_type": "code",
      "execution_count": 6,
      "metadata": {
        "colab": {},
        "colab_type": "code",
        "id": "g0KL-EHyTtER"
      },
      "outputs": [],
      "source": [
        "scaler = StandardScaler()\n",
        "X_train = scaler.fit_transform(X_train)\n",
        "X_test = scaler.fit_transform(X_test)"
      ]
    },
    {
      "cell_type": "code",
      "execution_count": 7,
      "metadata": {
        "colab": {
          "base_uri": "https://localhost:8080/",
          "height": 51
        },
        "colab_type": "code",
        "id": "Y6UeoQf-TTvM",
        "outputId": "b9822a98-85dd-4edb-e557-54677264c229"
      },
      "outputs": [
        {
          "name": "stdout",
          "output_type": "stream",
          "text": [
            "Training Data has 12717 examples\n",
            "Testing Data has 2245 examples\n"
          ]
        }
      ],
      "source": [
        "print(f\"Training Data has {len(X_train)} examples\")\n",
        "print(f\"Testing Data has {len(X_test)} examples\")"
      ]
    },
    {
      "cell_type": "code",
      "execution_count": 8,
      "metadata": {
        "colab": {
          "base_uri": "https://localhost:8080/",
          "height": 238
        },
        "colab_type": "code",
        "id": "PVs6v3Xk--S4",
        "outputId": "146e656e-cb7a-40b2-fcac-f9f5eb4c75f6"
      },
      "outputs": [],
      "source": [
        "y_train = y_train.to_numpy()\n"
      ]
    },
    {
      "cell_type": "code",
      "execution_count": 9,
      "metadata": {},
      "outputs": [],
      "source": [
        "y_test =y_test.to_numpy()"
      ]
    },
    {
      "cell_type": "code",
      "execution_count": 10,
      "metadata": {
        "colab": {},
        "colab_type": "code",
        "id": "4g4cmdfRURYC"
      },
      "outputs": [],
      "source": [
        "## Train Data\n",
        "class trainData(Dataset):\n",
        "    \n",
        "    def __init__(self, X_data, y_data):\n",
        "        self.X_data = X_data\n",
        "        self.y_data = y_data\n",
        "        \n",
        "    def __getitem__(self, index):\n",
        "        return self.X_data[index], self.y_data[index]\n",
        "        \n",
        "    def __len__ (self):\n",
        "        return len(self.X_data)\n",
        "\n",
        "\n",
        "train_data = trainData(torch.FloatTensor(X_train), \n",
        "                       torch.FloatTensor(y_train))\n",
        "## Test Data    \n",
        "class testData(Dataset):\n",
        "    \n",
        "    def __init__(self, X_data, y_data):\n",
        "        self.X_data = X_data\n",
        "        self.y_data = y_data\n",
        "        \n",
        "    def __getitem__(self, index):\n",
        "        return self.X_data[index], self.y_data[index]\n",
        "        \n",
        "    def __len__ (self):\n",
        "        return len(self.X_data)\n",
        "    \n",
        "\n",
        "test_data = testData(torch.FloatTensor(X_test),\n",
        "                    torch.FloatTensor(y_test))"
      ]
    },
    {
      "cell_type": "code",
      "execution_count": 11,
      "metadata": {},
      "outputs": [],
      "source": [
        "class accData(Dataset):\n",
        "    \n",
        "    def __init__(self, X_data):\n",
        "        self.X_data = X_data\n",
        "        \n",
        "    def __getitem__(self, index):\n",
        "        return self.X_data[index]\n",
        "        \n",
        "    def __len__ (self):\n",
        "        return len(self.X_data)\n",
        "    \n",
        "\n",
        "acc_data = accData(torch.FloatTensor(X_test))"
      ]
    },
    {
      "cell_type": "code",
      "execution_count": 12,
      "metadata": {
        "colab": {},
        "colab_type": "code",
        "id": "QlGXd0e1_yAl"
      },
      "outputs": [],
      "source": [
        "# Create DataLoaders for torch\n",
        "BATCH_SIZE = 64\n",
        "LEARNING_RATE=0.001\n",
        "EPOCHS=100\n",
        "\n",
        "train_loader = DataLoader(dataset=train_data, batch_size=BATCH_SIZE, shuffle=True)\n",
        "test_loader = DataLoader(dataset=test_data, batch_size=BATCH_SIZE,)\n",
        "acc_loader = DataLoader(dataset=acc_data, batch_size=1)"
      ]
    },
    {
      "cell_type": "code",
      "execution_count": 20,
      "metadata": {
        "colab": {},
        "colab_type": "code",
        "id": "rJde-qwhD7Nc"
      },
      "outputs": [],
      "source": [
        "class MLPNetwork(nn.Module):\n",
        "    def __init__(self):\n",
        "        super().__init__()\n",
        "\n",
        "        self.layer_1 = nn.Linear(14, 64) \n",
        "        self.layer_2 = nn.Linear(64, 64)\n",
        "        self.layer_out = nn.Linear(64, 1)\n",
        "        \n",
        "        self.leakyRelu = nn.LeakyReLU()\n",
        "        self.dropout = nn.Dropout(p=0.25)\n",
        "        self.batchnorm1 = nn.BatchNorm1d(64)\n",
        "        self.batchnorm2 = nn.BatchNorm1d(64)\n",
        "\n",
        "    def forward(self, x):\n",
        "        x = self.leakyRelu(self.layer_1(x))\n",
        "        x = self.batchnorm1(x)\n",
        "        x = self.dropout(x)\n",
        "        x = self.leakyRelu(self.layer_2(x))\n",
        "        x = self.batchnorm2(x)\n",
        "        x = self.dropout(x)\n",
        "        x = self.layer_out(x)\n",
        "        return x\n",
        "\n",
        "model = MLPNetwork()"
      ]
    },
    {
      "cell_type": "code",
      "execution_count": 13,
      "metadata": {},
      "outputs": [],
      "source": [
        "class GRUnet1(nn.Module):\n",
        "    def __init__(self):\n",
        "        super(GRUnet1,self).__init__()\n",
        "        #self.embedding = nn.Embedding(100,3)\n",
        "        self.gru1 = nn.GRU(input_size=14,hidden_size=256,batch_first=True,bidirectional=True)\n",
        "        self.gru2 = nn.GRU(input_size=512,hidden_size=128,batch_first=True,bidirectional=True)\n",
        "        self.gru3 = nn.GRU(input_size=256,hidden_size=64,batch_first=True,bidirectional=True)\n",
        "        self.conn1 = nn.Dropout(p=0.3)\n",
        "        self.layer = nn.Linear(256, 128)\n",
        "        self.fc = nn.Linear(128, 1)\n",
        "\n",
        "        self.leakyRelu = nn.ReLU()\n",
        "        self.dropout = nn.Dropout(p=0.25)\n",
        "        #self.head = nn.Sigmoid()\n",
        "\n",
        "    def forward(self,x):\n",
        "        #x = self.embedding(x)\n",
        "        x,n = self.gru1(x,None)\n",
        "        x = self.conn1(x)\n",
        "        x,n = self.gru2(x,None)\n",
        "        x = self.conn1(x)\n",
        "        x = self.leakyRelu(self.layer(x))\n",
        "        #x = self.conn3(x)\n",
        "        x = self.fc(x)\n",
        "        #x = self.head(x)\n",
        "        return x\n",
        "\n",
        "model = GRUnet1()"
      ]
    },
    {
      "cell_type": "code",
      "execution_count": 14,
      "metadata": {
        "colab": {
          "base_uri": "https://localhost:8080/",
          "height": 34
        },
        "colab_type": "code",
        "id": "ChKT8fRTJeCV",
        "outputId": "b544f116-4523-44f8-ae9c-7320a6067510"
      },
      "outputs": [
        {
          "name": "stdout",
          "output_type": "stream",
          "text": [
            "The model has 1,067,521 trainable parameters\n"
          ]
        }
      ],
      "source": [
        "def count_parameters(model):\n",
        "    return sum(p.numel() for p in model.parameters() if p.requires_grad)\n",
        "print(f'The model has {count_parameters(model):,} trainable parameters')"
      ]
    },
    {
      "cell_type": "code",
      "execution_count": 15,
      "metadata": {
        "colab": {},
        "colab_type": "code",
        "id": "0T1eGSRpH4bW"
      },
      "outputs": [],
      "source": [
        "optimizer = optim.Adam(model.parameters(), lr=LEARNING_RATE, weight_decay=5e-3)\n",
        "criterion = nn.BCEWithLogitsLoss()\n",
        "device = torch.device('cuda:0')"
      ]
    },
    {
      "cell_type": "code",
      "execution_count": 16,
      "metadata": {
        "colab": {},
        "colab_type": "code",
        "id": "ROQMjs0jLmVQ"
      },
      "outputs": [],
      "source": [
        "model = model.to(device)\n",
        "criterion = criterion.to(device)"
      ]
    },
    {
      "cell_type": "code",
      "execution_count": 17,
      "metadata": {
        "colab": {},
        "colab_type": "code",
        "id": "0fYPzjCRU4Jp"
      },
      "outputs": [],
      "source": [
        "def accuracy(y_pred, y_test):\n",
        "    y_pred_tag = torch.round(torch.sigmoid(y_pred))\n",
        "\n",
        "    correct_results_sum = (y_pred_tag == y_test).sum().float()\n",
        "    acc = correct_results_sum/y_test.shape[0]\n",
        "    acc = torch.round(acc * 100)\n",
        "    \n",
        "    return acc"
      ]
    },
    {
      "cell_type": "code",
      "execution_count": 18,
      "metadata": {
        "colab": {
          "base_uri": "https://localhost:8080/",
          "height": 867
        },
        "colab_type": "code",
        "id": "qogO4Jw3U_9q",
        "outputId": "dd31b4c3-d072-4409-b749-4f83e72e88c1"
      },
      "outputs": [
        {
          "name": "stdout",
          "output_type": "stream",
          "text": [
            "Epoch 001: | Loss: 0.68786 | Acc: 55.035\n",
            "Epoch 001: | tLoss: 0.68929 | tAcc: 54.528\n",
            "Epoch 002: | Loss: 0.68829 | Acc: 55.015\n",
            "Epoch 002: | tLoss: 0.68904 | tAcc: 54.528\n",
            "Epoch 003: | Loss: 0.68823 | Acc: 55.116\n",
            "Epoch 003: | tLoss: 0.68902 | tAcc: 54.528\n",
            "Epoch 004: | Loss: 0.68807 | Acc: 55.101\n",
            "Epoch 004: | tLoss: 0.68916 | tAcc: 54.528\n",
            "Epoch 005: | Loss: 0.68803 | Acc: 55.020\n",
            "Epoch 005: | tLoss: 0.68902 | tAcc: 54.528\n",
            "Epoch 006: | Loss: 0.68807 | Acc: 55.080\n",
            "Epoch 006: | tLoss: 0.68902 | tAcc: 54.528\n"
          ]
        },
        {
          "ename": "KeyboardInterrupt",
          "evalue": "",
          "output_type": "error",
          "traceback": [
            "\u001b[0;31m---------------------------------------------------------------------------\u001b[0m",
            "\u001b[0;31mKeyboardInterrupt\u001b[0m                         Traceback (most recent call last)",
            "\u001b[0;32m/tmp/ipykernel_238704/3846495463.py\u001b[0m in \u001b[0;36m<module>\u001b[0;34m\u001b[0m\n\u001b[1;32m     16\u001b[0m \u001b[0;34m\u001b[0m\u001b[0m\n\u001b[1;32m     17\u001b[0m         \u001b[0mloss\u001b[0m\u001b[0;34m.\u001b[0m\u001b[0mbackward\u001b[0m\u001b[0;34m(\u001b[0m\u001b[0;34m)\u001b[0m\u001b[0;34m\u001b[0m\u001b[0;34m\u001b[0m\u001b[0m\n\u001b[0;32m---> 18\u001b[0;31m         \u001b[0moptimizer\u001b[0m\u001b[0;34m.\u001b[0m\u001b[0mstep\u001b[0m\u001b[0;34m(\u001b[0m\u001b[0;34m)\u001b[0m\u001b[0;34m\u001b[0m\u001b[0;34m\u001b[0m\u001b[0m\n\u001b[0m\u001b[1;32m     19\u001b[0m \u001b[0;34m\u001b[0m\u001b[0m\n\u001b[1;32m     20\u001b[0m         \u001b[0mepoch_loss\u001b[0m \u001b[0;34m+=\u001b[0m \u001b[0mloss\u001b[0m\u001b[0;34m.\u001b[0m\u001b[0mitem\u001b[0m\u001b[0;34m(\u001b[0m\u001b[0;34m)\u001b[0m\u001b[0;34m\u001b[0m\u001b[0;34m\u001b[0m\u001b[0m\n",
            "\u001b[0;32m~/anaconda3/envs/py37/lib/python3.7/site-packages/torch/optim/optimizer.py\u001b[0m in \u001b[0;36mwrapper\u001b[0;34m(*args, **kwargs)\u001b[0m\n\u001b[1;32m     86\u001b[0m                 \u001b[0mprofile_name\u001b[0m \u001b[0;34m=\u001b[0m \u001b[0;34m\"Optimizer.step#{}.step\"\u001b[0m\u001b[0;34m.\u001b[0m\u001b[0mformat\u001b[0m\u001b[0;34m(\u001b[0m\u001b[0mobj\u001b[0m\u001b[0;34m.\u001b[0m\u001b[0m__class__\u001b[0m\u001b[0;34m.\u001b[0m\u001b[0m__name__\u001b[0m\u001b[0;34m)\u001b[0m\u001b[0;34m\u001b[0m\u001b[0;34m\u001b[0m\u001b[0m\n\u001b[1;32m     87\u001b[0m                 \u001b[0;32mwith\u001b[0m \u001b[0mtorch\u001b[0m\u001b[0;34m.\u001b[0m\u001b[0mautograd\u001b[0m\u001b[0;34m.\u001b[0m\u001b[0mprofiler\u001b[0m\u001b[0;34m.\u001b[0m\u001b[0mrecord_function\u001b[0m\u001b[0;34m(\u001b[0m\u001b[0mprofile_name\u001b[0m\u001b[0;34m)\u001b[0m\u001b[0;34m:\u001b[0m\u001b[0;34m\u001b[0m\u001b[0;34m\u001b[0m\u001b[0m\n\u001b[0;32m---> 88\u001b[0;31m                     \u001b[0;32mreturn\u001b[0m \u001b[0mfunc\u001b[0m\u001b[0;34m(\u001b[0m\u001b[0;34m*\u001b[0m\u001b[0margs\u001b[0m\u001b[0;34m,\u001b[0m \u001b[0;34m**\u001b[0m\u001b[0mkwargs\u001b[0m\u001b[0;34m)\u001b[0m\u001b[0;34m\u001b[0m\u001b[0;34m\u001b[0m\u001b[0m\n\u001b[0m\u001b[1;32m     89\u001b[0m             \u001b[0;32mreturn\u001b[0m \u001b[0mwrapper\u001b[0m\u001b[0;34m\u001b[0m\u001b[0;34m\u001b[0m\u001b[0m\n\u001b[1;32m     90\u001b[0m \u001b[0;34m\u001b[0m\u001b[0m\n",
            "\u001b[0;32m~/anaconda3/envs/py37/lib/python3.7/site-packages/torch/autograd/grad_mode.py\u001b[0m in \u001b[0;36mdecorate_context\u001b[0;34m(*args, **kwargs)\u001b[0m\n\u001b[1;32m     25\u001b[0m         \u001b[0;32mdef\u001b[0m \u001b[0mdecorate_context\u001b[0m\u001b[0;34m(\u001b[0m\u001b[0;34m*\u001b[0m\u001b[0margs\u001b[0m\u001b[0;34m,\u001b[0m \u001b[0;34m**\u001b[0m\u001b[0mkwargs\u001b[0m\u001b[0;34m)\u001b[0m\u001b[0;34m:\u001b[0m\u001b[0;34m\u001b[0m\u001b[0;34m\u001b[0m\u001b[0m\n\u001b[1;32m     26\u001b[0m             \u001b[0;32mwith\u001b[0m \u001b[0mself\u001b[0m\u001b[0;34m.\u001b[0m\u001b[0mclone\u001b[0m\u001b[0;34m(\u001b[0m\u001b[0;34m)\u001b[0m\u001b[0;34m:\u001b[0m\u001b[0;34m\u001b[0m\u001b[0;34m\u001b[0m\u001b[0m\n\u001b[0;32m---> 27\u001b[0;31m                 \u001b[0;32mreturn\u001b[0m \u001b[0mfunc\u001b[0m\u001b[0;34m(\u001b[0m\u001b[0;34m*\u001b[0m\u001b[0margs\u001b[0m\u001b[0;34m,\u001b[0m \u001b[0;34m**\u001b[0m\u001b[0mkwargs\u001b[0m\u001b[0;34m)\u001b[0m\u001b[0;34m\u001b[0m\u001b[0;34m\u001b[0m\u001b[0m\n\u001b[0m\u001b[1;32m     28\u001b[0m         \u001b[0;32mreturn\u001b[0m \u001b[0mcast\u001b[0m\u001b[0;34m(\u001b[0m\u001b[0mF\u001b[0m\u001b[0;34m,\u001b[0m \u001b[0mdecorate_context\u001b[0m\u001b[0;34m)\u001b[0m\u001b[0;34m\u001b[0m\u001b[0;34m\u001b[0m\u001b[0m\n\u001b[1;32m     29\u001b[0m \u001b[0;34m\u001b[0m\u001b[0m\n",
            "\u001b[0;32m~/anaconda3/envs/py37/lib/python3.7/site-packages/torch/optim/adam.py\u001b[0m in \u001b[0;36mstep\u001b[0;34m(self, closure)\u001b[0m\n\u001b[1;32m    151\u001b[0m                    \u001b[0mweight_decay\u001b[0m\u001b[0;34m=\u001b[0m\u001b[0mgroup\u001b[0m\u001b[0;34m[\u001b[0m\u001b[0;34m'weight_decay'\u001b[0m\u001b[0;34m]\u001b[0m\u001b[0;34m,\u001b[0m\u001b[0;34m\u001b[0m\u001b[0;34m\u001b[0m\u001b[0m\n\u001b[1;32m    152\u001b[0m                    \u001b[0meps\u001b[0m\u001b[0;34m=\u001b[0m\u001b[0mgroup\u001b[0m\u001b[0;34m[\u001b[0m\u001b[0;34m'eps'\u001b[0m\u001b[0;34m]\u001b[0m\u001b[0;34m,\u001b[0m\u001b[0;34m\u001b[0m\u001b[0;34m\u001b[0m\u001b[0m\n\u001b[0;32m--> 153\u001b[0;31m                    maximize=group['maximize'])\n\u001b[0m\u001b[1;32m    154\u001b[0m         \u001b[0;32mreturn\u001b[0m \u001b[0mloss\u001b[0m\u001b[0;34m\u001b[0m\u001b[0;34m\u001b[0m\u001b[0m\n",
            "\u001b[0;32m~/anaconda3/envs/py37/lib/python3.7/site-packages/torch/optim/_functional.py\u001b[0m in \u001b[0;36madam\u001b[0;34m(params, grads, exp_avgs, exp_avg_sqs, max_exp_avg_sqs, state_steps, amsgrad, beta1, beta2, lr, weight_decay, eps, maximize)\u001b[0m\n\u001b[1;32m    103\u001b[0m             \u001b[0mdenom\u001b[0m \u001b[0;34m=\u001b[0m \u001b[0;34m(\u001b[0m\u001b[0mmax_exp_avg_sqs\u001b[0m\u001b[0;34m[\u001b[0m\u001b[0mi\u001b[0m\u001b[0;34m]\u001b[0m\u001b[0;34m.\u001b[0m\u001b[0msqrt\u001b[0m\u001b[0;34m(\u001b[0m\u001b[0;34m)\u001b[0m \u001b[0;34m/\u001b[0m \u001b[0mmath\u001b[0m\u001b[0;34m.\u001b[0m\u001b[0msqrt\u001b[0m\u001b[0;34m(\u001b[0m\u001b[0mbias_correction2\u001b[0m\u001b[0;34m)\u001b[0m\u001b[0;34m)\u001b[0m\u001b[0;34m.\u001b[0m\u001b[0madd_\u001b[0m\u001b[0;34m(\u001b[0m\u001b[0meps\u001b[0m\u001b[0;34m)\u001b[0m\u001b[0;34m\u001b[0m\u001b[0;34m\u001b[0m\u001b[0m\n\u001b[1;32m    104\u001b[0m         \u001b[0;32melse\u001b[0m\u001b[0;34m:\u001b[0m\u001b[0;34m\u001b[0m\u001b[0;34m\u001b[0m\u001b[0m\n\u001b[0;32m--> 105\u001b[0;31m             \u001b[0mdenom\u001b[0m \u001b[0;34m=\u001b[0m \u001b[0;34m(\u001b[0m\u001b[0mexp_avg_sq\u001b[0m\u001b[0;34m.\u001b[0m\u001b[0msqrt\u001b[0m\u001b[0;34m(\u001b[0m\u001b[0;34m)\u001b[0m \u001b[0;34m/\u001b[0m \u001b[0mmath\u001b[0m\u001b[0;34m.\u001b[0m\u001b[0msqrt\u001b[0m\u001b[0;34m(\u001b[0m\u001b[0mbias_correction2\u001b[0m\u001b[0;34m)\u001b[0m\u001b[0;34m)\u001b[0m\u001b[0;34m.\u001b[0m\u001b[0madd_\u001b[0m\u001b[0;34m(\u001b[0m\u001b[0meps\u001b[0m\u001b[0;34m)\u001b[0m\u001b[0;34m\u001b[0m\u001b[0;34m\u001b[0m\u001b[0m\n\u001b[0m\u001b[1;32m    106\u001b[0m \u001b[0;34m\u001b[0m\u001b[0m\n\u001b[1;32m    107\u001b[0m \u001b[0;34m\u001b[0m\u001b[0m\n",
            "\u001b[0;31mKeyboardInterrupt\u001b[0m: "
          ]
        },
        {
          "ename": "",
          "evalue": "",
          "output_type": "error",
          "traceback": [
            "\u001b[1;31mThe Kernel crashed while executing code in the the current cell or a previous cell. Please review the code in the cell(s) to identify a possible cause of the failure. Click <a href='https://aka.ms/vscodeJupyterKernelCrash'>here</a> for more info. View Jupyter <a href='command:jupyter.viewOutput'>log</a> for further details."
          ]
        }
      ],
      "source": [
        "#model.train()\n",
        "for e in range(1, EPOCHS+1):\n",
        "    epoch_loss = 0\n",
        "    epoch_acc = 0\n",
        "    tepoch_loss = 0\n",
        "    tepoch_acc = 0\n",
        "    model.train()\n",
        "    for X_batch, y_batch in train_loader:\n",
        "        \n",
        "        X_batch, y_batch = X_batch.to(device), y_batch.to(device)\n",
        "        optimizer.zero_grad()\n",
        "        \n",
        "        y_pred = model(X_batch)\n",
        "        loss = criterion(y_pred, y_batch)\n",
        "        acc = accuracy(y_pred, y_batch)\n",
        "        \n",
        "        loss.backward()\n",
        "        optimizer.step()\n",
        "        \n",
        "        epoch_loss += loss.item()\n",
        "        epoch_acc += acc.item()\n",
        "        \n",
        "    model.eval()\n",
        "    for X_batch, y_batch in test_loader:\n",
        "        \n",
        "        X_batch, y_batch = X_batch.to(device), y_batch.to(device)\n",
        "\n",
        "        \n",
        "        y_pred = model(X_batch)\n",
        "        tloss = criterion(y_pred, y_batch)\n",
        "        tacc = accuracy(y_pred, y_batch)\n",
        "                \n",
        "        tepoch_loss += tloss.item()\n",
        "        tepoch_acc += tacc.item()\n",
        "        \n",
        "    print(f'Epoch {e+0:03}: | Loss: {epoch_loss/len(train_loader):.5f} | Acc: {epoch_acc/len(train_loader):.3f}')    \n",
        "    print(f'Epoch {e+0:03}: | tLoss: {tepoch_loss/len(test_loader):.5f} | tAcc: {tepoch_acc/len(test_loader):.3f}')"
      ]
    },
    {
      "cell_type": "code",
      "execution_count": 17,
      "metadata": {},
      "outputs": [
        {
          "name": "stdout",
          "output_type": "stream",
          "text": [
            "Epoch 001: | Loss: 0.63653 | Acc: 62.591\n",
            "Epoch 001: | tLoss: 0.87253 | tAcc: 58.305\n",
            "Epoch 002: | Loss: 0.57491 | Acc: 69.778\n",
            "Epoch 002: | tLoss: 0.78046 | tAcc: 60.525\n",
            "Epoch 003: | Loss: 0.53977 | Acc: 71.847\n",
            "Epoch 003: | tLoss: 0.75252 | tAcc: 60.339\n",
            "Epoch 004: | Loss: 0.51897 | Acc: 74.097\n",
            "Epoch 004: | tLoss: 0.79355 | tAcc: 60.983\n",
            "Epoch 005: | Loss: 0.49895 | Acc: 75.415\n",
            "Epoch 005: | tLoss: 1.58813 | tAcc: 58.508\n",
            "Epoch 006: | Loss: 0.48755 | Acc: 76.097\n",
            "Epoch 006: | tLoss: 0.80177 | tAcc: 62.559\n",
            "Epoch 007: | Loss: 0.46786 | Acc: 77.659\n",
            "Epoch 007: | tLoss: 0.85773 | tAcc: 65.203\n",
            "Epoch 008: | Loss: 0.44878 | Acc: 78.330\n",
            "Epoch 008: | tLoss: 1.22177 | tAcc: 62.051\n",
            "Epoch 009: | Loss: 0.44350 | Acc: 78.540\n",
            "Epoch 009: | tLoss: 1.62378 | tAcc: 61.271\n",
            "Epoch 010: | Loss: 0.43550 | Acc: 79.773\n",
            "Epoch 010: | tLoss: 1.14529 | tAcc: 60.797\n",
            "Epoch 011: | Loss: 0.42088 | Acc: 80.216\n",
            "Epoch 011: | tLoss: 0.98188 | tAcc: 62.000\n",
            "Epoch 012: | Loss: 0.42173 | Acc: 80.182\n",
            "Epoch 012: | tLoss: 1.77694 | tAcc: 60.763\n",
            "Epoch 013: | Loss: 0.40512 | Acc: 81.199\n",
            "Epoch 013: | tLoss: 1.44694 | tAcc: 61.136\n",
            "Epoch 014: | Loss: 0.41222 | Acc: 80.960\n",
            "Epoch 014: | tLoss: 0.88525 | tAcc: 62.763\n",
            "Epoch 015: | Loss: 0.40612 | Acc: 81.119\n",
            "Epoch 015: | tLoss: 2.39662 | tAcc: 60.153\n",
            "Epoch 016: | Loss: 0.39858 | Acc: 81.506\n",
            "Epoch 016: | tLoss: 1.32683 | tAcc: 62.576\n",
            "Epoch 017: | Loss: 0.38801 | Acc: 82.284\n",
            "Epoch 017: | tLoss: 2.13273 | tAcc: 62.898\n",
            "Epoch 018: | Loss: 0.38340 | Acc: 82.341\n",
            "Epoch 018: | tLoss: 1.53206 | tAcc: 64.186\n",
            "Epoch 019: | Loss: 0.38299 | Acc: 82.330\n",
            "Epoch 019: | tLoss: 2.45695 | tAcc: 61.644\n",
            "Epoch 020: | Loss: 0.37689 | Acc: 82.830\n",
            "Epoch 020: | tLoss: 1.18081 | tAcc: 61.119\n",
            "Epoch 021: | Loss: 0.38425 | Acc: 82.239\n",
            "Epoch 021: | tLoss: 1.51403 | tAcc: 62.373\n",
            "Epoch 022: | Loss: 0.37008 | Acc: 83.199\n",
            "Epoch 022: | tLoss: 1.57941 | tAcc: 61.576\n",
            "Epoch 023: | Loss: 0.36929 | Acc: 83.017\n",
            "Epoch 023: | tLoss: 1.61257 | tAcc: 62.034\n",
            "Epoch 024: | Loss: 0.36760 | Acc: 82.955\n",
            "Epoch 024: | tLoss: 2.04547 | tAcc: 61.814\n",
            "Epoch 025: | Loss: 0.37089 | Acc: 83.227\n",
            "Epoch 025: | tLoss: 3.22993 | tAcc: 61.407\n",
            "Epoch 026: | Loss: 0.36261 | Acc: 83.472\n",
            "Epoch 026: | tLoss: 2.59606 | tAcc: 63.017\n",
            "Epoch 027: | Loss: 0.36859 | Acc: 83.494\n",
            "Epoch 027: | tLoss: 3.20221 | tAcc: 60.627\n",
            "Epoch 028: | Loss: 0.36143 | Acc: 83.682\n",
            "Epoch 028: | tLoss: 2.41627 | tAcc: 62.881\n",
            "Epoch 029: | Loss: 0.36202 | Acc: 83.602\n",
            "Epoch 029: | tLoss: 2.42847 | tAcc: 61.966\n",
            "Epoch 030: | Loss: 0.35365 | Acc: 84.068\n",
            "Epoch 030: | tLoss: 1.93737 | tAcc: 62.102\n",
            "Epoch 031: | Loss: 0.35571 | Acc: 84.165\n",
            "Epoch 031: | tLoss: 3.28486 | tAcc: 61.424\n",
            "Epoch 032: | Loss: 0.34617 | Acc: 84.636\n",
            "Epoch 032: | tLoss: 2.71734 | tAcc: 61.627\n",
            "Epoch 033: | Loss: 0.35935 | Acc: 84.102\n",
            "Epoch 033: | tLoss: 1.97522 | tAcc: 61.593\n",
            "Epoch 034: | Loss: 0.35202 | Acc: 83.790\n",
            "Epoch 034: | tLoss: 1.94864 | tAcc: 61.102\n",
            "Epoch 035: | Loss: 0.33961 | Acc: 84.915\n",
            "Epoch 035: | tLoss: 1.66801 | tAcc: 65.644\n",
            "Epoch 036: | Loss: 0.34269 | Acc: 84.881\n",
            "Epoch 036: | tLoss: 1.50207 | tAcc: 63.169\n",
            "Epoch 037: | Loss: 0.35204 | Acc: 83.852\n",
            "Epoch 037: | tLoss: 1.29039 | tAcc: 64.678\n",
            "Epoch 038: | Loss: 0.35039 | Acc: 84.830\n",
            "Epoch 038: | tLoss: 3.08079 | tAcc: 61.017\n",
            "Epoch 039: | Loss: 0.33922 | Acc: 84.903\n",
            "Epoch 039: | tLoss: 2.35285 | tAcc: 62.051\n",
            "Epoch 040: | Loss: 0.34467 | Acc: 84.790\n",
            "Epoch 040: | tLoss: 2.60634 | tAcc: 64.763\n",
            "Epoch 041: | Loss: 0.33840 | Acc: 85.062\n",
            "Epoch 041: | tLoss: 2.96813 | tAcc: 61.678\n",
            "Epoch 042: | Loss: 0.34596 | Acc: 84.705\n",
            "Epoch 042: | tLoss: 2.35761 | tAcc: 62.051\n",
            "Epoch 043: | Loss: 0.33928 | Acc: 84.909\n",
            "Epoch 043: | tLoss: 1.99256 | tAcc: 63.475\n",
            "Epoch 044: | Loss: 0.33562 | Acc: 85.080\n",
            "Epoch 044: | tLoss: 1.41041 | tAcc: 67.051\n",
            "Epoch 045: | Loss: 0.34329 | Acc: 84.358\n",
            "Epoch 045: | tLoss: 2.97816 | tAcc: 62.136\n",
            "Epoch 046: | Loss: 0.33380 | Acc: 85.011\n",
            "Epoch 046: | tLoss: 1.65500 | tAcc: 66.119\n",
            "Epoch 047: | Loss: 0.33779 | Acc: 85.244\n",
            "Epoch 047: | tLoss: 1.71982 | tAcc: 60.966\n",
            "Epoch 048: | Loss: 0.33354 | Acc: 85.148\n",
            "Epoch 048: | tLoss: 2.87632 | tAcc: 61.068\n",
            "Epoch 049: | Loss: 0.32800 | Acc: 85.528\n",
            "Epoch 049: | tLoss: 1.87493 | tAcc: 62.949\n",
            "Epoch 050: | Loss: 0.33144 | Acc: 85.534\n",
            "Epoch 050: | tLoss: 3.11405 | tAcc: 58.678\n"
          ]
        }
      ],
      "source": [
        "#model.train()\n",
        "for e in range(1, EPOCHS+1):\n",
        "    epoch_loss = 0\n",
        "    epoch_acc = 0\n",
        "    tepoch_loss = 0\n",
        "    tepoch_acc = 0\n",
        "    model.train()\n",
        "    for X_batch, y_batch in train_loader:\n",
        "        \n",
        "        X_batch, y_batch = X_batch.to(device), y_batch.to(device)\n",
        "        optimizer.zero_grad()\n",
        "        \n",
        "        y_pred = model(X_batch)\n",
        "        loss = criterion(y_pred, y_batch)\n",
        "        acc = accuracy(y_pred, y_batch)\n",
        "        \n",
        "        loss.backward()\n",
        "        optimizer.step()\n",
        "        \n",
        "        epoch_loss += loss.item()\n",
        "        epoch_acc += acc.item()\n",
        "        \n",
        "    model.eval()\n",
        "    for X_batch, y_batch in test_loader:\n",
        "        \n",
        "        X_batch, y_batch = X_batch.to(device), y_batch.to(device)\n",
        "\n",
        "        \n",
        "        y_pred = model(X_batch)\n",
        "        tloss = criterion(y_pred, y_batch)\n",
        "        tacc = accuracy(y_pred, y_batch)\n",
        "                \n",
        "        tepoch_loss += tloss.item()\n",
        "        tepoch_acc += tacc.item()\n",
        "        \n",
        "    print(f'Epoch {e+0:03}: | Loss: {epoch_loss/len(train_loader):.5f} | Acc: {epoch_acc/len(train_loader):.3f}')    \n",
        "    print(f'Epoch {e+0:03}: | tLoss: {tepoch_loss/len(test_loader):.5f} | tAcc: {tepoch_acc/len(test_loader):.3f}')"
      ]
    },
    {
      "cell_type": "code",
      "execution_count": 18,
      "metadata": {},
      "outputs": [
        {
          "name": "stdout",
          "output_type": "stream",
          "text": [
            "Epoch 001: | Loss: 0.45580 | Acc: 77.932\n",
            "Epoch 001: | tLoss: 0.99320 | tAcc: 59.881\n",
            "Epoch 002: | Loss: 0.44988 | Acc: 78.364\n",
            "Epoch 002: | tLoss: 1.03394 | tAcc: 58.746\n",
            "Epoch 003: | Loss: 0.44821 | Acc: 78.415\n",
            "Epoch 003: | tLoss: 1.04504 | tAcc: 59.237\n",
            "Epoch 004: | Loss: 0.44625 | Acc: 78.199\n",
            "Epoch 004: | tLoss: 1.04342 | tAcc: 58.203\n",
            "Epoch 005: | Loss: 0.44800 | Acc: 78.420\n",
            "Epoch 005: | tLoss: 1.04534 | tAcc: 58.153\n",
            "Epoch 006: | Loss: 0.44365 | Acc: 78.909\n",
            "Epoch 006: | tLoss: 1.03718 | tAcc: 58.831\n",
            "Epoch 007: | Loss: 0.43824 | Acc: 78.960\n",
            "Epoch 007: | tLoss: 1.05373 | tAcc: 59.390\n",
            "Epoch 008: | Loss: 0.43541 | Acc: 79.142\n",
            "Epoch 008: | tLoss: 1.08200 | tAcc: 58.593\n",
            "Epoch 009: | Loss: 0.42271 | Acc: 79.801\n",
            "Epoch 009: | tLoss: 1.05021 | tAcc: 58.627\n",
            "Epoch 010: | Loss: 0.43169 | Acc: 79.466\n",
            "Epoch 010: | tLoss: 1.08868 | tAcc: 58.475\n",
            "Epoch 011: | Loss: 0.43019 | Acc: 79.557\n",
            "Epoch 011: | tLoss: 1.06668 | tAcc: 58.576\n",
            "Epoch 012: | Loss: 0.42431 | Acc: 80.011\n",
            "Epoch 012: | tLoss: 1.04979 | tAcc: 58.407\n",
            "Epoch 013: | Loss: 0.42155 | Acc: 79.602\n",
            "Epoch 013: | tLoss: 1.08463 | tAcc: 58.051\n",
            "Epoch 014: | Loss: 0.41917 | Acc: 80.653\n",
            "Epoch 014: | tLoss: 1.07312 | tAcc: 57.949\n",
            "Epoch 015: | Loss: 0.41593 | Acc: 80.403\n",
            "Epoch 015: | tLoss: 1.09410 | tAcc: 58.017\n",
            "Epoch 016: | Loss: 0.42254 | Acc: 80.057\n",
            "Epoch 016: | tLoss: 1.05715 | tAcc: 57.475\n",
            "Epoch 017: | Loss: 0.41079 | Acc: 80.455\n",
            "Epoch 017: | tLoss: 1.11348 | tAcc: 57.051\n",
            "Epoch 018: | Loss: 0.41223 | Acc: 80.426\n",
            "Epoch 018: | tLoss: 1.11660 | tAcc: 57.322\n",
            "Epoch 019: | Loss: 0.40791 | Acc: 80.994\n",
            "Epoch 019: | tLoss: 1.13295 | tAcc: 57.051\n",
            "Epoch 020: | Loss: 0.40619 | Acc: 80.938\n",
            "Epoch 020: | tLoss: 1.08455 | tAcc: 58.102\n",
            "Epoch 021: | Loss: 0.40400 | Acc: 81.034\n",
            "Epoch 021: | tLoss: 1.09742 | tAcc: 57.542\n",
            "Epoch 022: | Loss: 0.40627 | Acc: 80.830\n",
            "Epoch 022: | tLoss: 1.12154 | tAcc: 57.475\n",
            "Epoch 023: | Loss: 0.40659 | Acc: 81.119\n",
            "Epoch 023: | tLoss: 1.09479 | tAcc: 58.085\n",
            "Epoch 024: | Loss: 0.39710 | Acc: 81.585\n",
            "Epoch 024: | tLoss: 1.12767 | tAcc: 58.492\n",
            "Epoch 025: | Loss: 0.39693 | Acc: 81.739\n",
            "Epoch 025: | tLoss: 1.07890 | tAcc: 58.576\n",
            "Epoch 026: | Loss: 0.39619 | Acc: 81.790\n",
            "Epoch 026: | tLoss: 1.12113 | tAcc: 57.322\n",
            "Epoch 027: | Loss: 0.39291 | Acc: 82.210\n",
            "Epoch 027: | tLoss: 1.11666 | tAcc: 57.475\n",
            "Epoch 028: | Loss: 0.38736 | Acc: 81.898\n",
            "Epoch 028: | tLoss: 1.15751 | tAcc: 56.593\n",
            "Epoch 029: | Loss: 0.39793 | Acc: 81.409\n",
            "Epoch 029: | tLoss: 1.12453 | tAcc: 56.814\n",
            "Epoch 030: | Loss: 0.38633 | Acc: 82.290\n",
            "Epoch 030: | tLoss: 1.16141 | tAcc: 57.288\n",
            "Epoch 031: | Loss: 0.38423 | Acc: 82.278\n",
            "Epoch 031: | tLoss: 1.14384 | tAcc: 56.881\n",
            "Epoch 032: | Loss: 0.38267 | Acc: 82.574\n",
            "Epoch 032: | tLoss: 1.14279 | tAcc: 56.678\n",
            "Epoch 033: | Loss: 0.38530 | Acc: 82.403\n",
            "Epoch 033: | tLoss: 1.15165 | tAcc: 57.051\n",
            "Epoch 034: | Loss: 0.38347 | Acc: 82.062\n",
            "Epoch 034: | tLoss: 1.15519 | tAcc: 57.695\n",
            "Epoch 035: | Loss: 0.37596 | Acc: 82.409\n",
            "Epoch 035: | tLoss: 1.18286 | tAcc: 57.237\n",
            "Epoch 036: | Loss: 0.38124 | Acc: 82.210\n",
            "Epoch 036: | tLoss: 1.15729 | tAcc: 57.373\n",
            "Epoch 037: | Loss: 0.37502 | Acc: 82.767\n",
            "Epoch 037: | tLoss: 1.16689 | tAcc: 56.627\n",
            "Epoch 038: | Loss: 0.37165 | Acc: 83.182\n",
            "Epoch 038: | tLoss: 1.14247 | tAcc: 56.678\n",
            "Epoch 039: | Loss: 0.37892 | Acc: 82.869\n",
            "Epoch 039: | tLoss: 1.11380 | tAcc: 56.458\n",
            "Epoch 040: | Loss: 0.38055 | Acc: 82.818\n",
            "Epoch 040: | tLoss: 1.18533 | tAcc: 54.780\n",
            "Epoch 041: | Loss: 0.36436 | Acc: 83.614\n",
            "Epoch 041: | tLoss: 1.23708 | tAcc: 55.153\n",
            "Epoch 042: | Loss: 0.37037 | Acc: 83.011\n",
            "Epoch 042: | tLoss: 1.13694 | tAcc: 57.492\n",
            "Epoch 043: | Loss: 0.37165 | Acc: 83.324\n",
            "Epoch 043: | tLoss: 1.15397 | tAcc: 56.271\n",
            "Epoch 044: | Loss: 0.36721 | Acc: 83.324\n",
            "Epoch 044: | tLoss: 1.13105 | tAcc: 57.559\n",
            "Epoch 045: | Loss: 0.37131 | Acc: 83.347\n",
            "Epoch 045: | tLoss: 1.16263 | tAcc: 56.390\n",
            "Epoch 046: | Loss: 0.36302 | Acc: 83.625\n",
            "Epoch 046: | tLoss: 1.19278 | tAcc: 56.119\n",
            "Epoch 047: | Loss: 0.36511 | Acc: 83.250\n",
            "Epoch 047: | tLoss: 1.13670 | tAcc: 57.695\n",
            "Epoch 048: | Loss: 0.36433 | Acc: 83.602\n",
            "Epoch 048: | tLoss: 1.15698 | tAcc: 56.983\n",
            "Epoch 049: | Loss: 0.35829 | Acc: 83.875\n",
            "Epoch 049: | tLoss: 1.20218 | tAcc: 58.068\n",
            "Epoch 050: | Loss: 0.35817 | Acc: 83.273\n",
            "Epoch 050: | tLoss: 1.22512 | tAcc: 58.153\n"
          ]
        }
      ],
      "source": [
        "for e in range(1, EPOCHS+1):\n",
        "    epoch_loss = 0\n",
        "    epoch_acc = 0\n",
        "    tepoch_loss = 0\n",
        "    tepoch_acc = 0\n",
        "    model.train()\n",
        "    for X_batch, y_batch in train_loader:\n",
        "        \n",
        "        X_batch, y_batch = X_batch.to(device), y_batch.to(device)\n",
        "        optimizer.zero_grad()\n",
        "        \n",
        "        y_pred = model(X_batch)\n",
        "        loss = criterion(y_pred, y_batch)\n",
        "        acc = accuracy(y_pred, y_batch)\n",
        "        \n",
        "        loss.backward()\n",
        "        optimizer.step()\n",
        "        \n",
        "        epoch_loss += loss.item()\n",
        "        epoch_acc += acc.item()\n",
        "        \n",
        "    model.eval()\n",
        "    for X_batch, y_batch in test_loader:\n",
        "        \n",
        "        X_batch, y_batch = X_batch.to(device), y_batch.to(device)\n",
        "\n",
        "        \n",
        "        y_pred = model(X_batch)\n",
        "        tloss = criterion(y_pred, y_batch)\n",
        "        tacc = accuracy(y_pred, y_batch)\n",
        "                \n",
        "        tepoch_loss += tloss.item()\n",
        "        tepoch_acc += tacc.item()\n",
        "        \n",
        "    print(f'Epoch {e+0:03}: | Loss: {epoch_loss/len(train_loader):.5f} | Acc: {epoch_acc/len(train_loader):.3f}')    \n",
        "    print(f'Epoch {e+0:03}: | tLoss: {tepoch_loss/len(test_loader):.5f} | tAcc: {tepoch_acc/len(test_loader):.3f}')"
      ]
    },
    {
      "cell_type": "code",
      "execution_count": 20,
      "metadata": {
        "colab": {},
        "colab_type": "code",
        "id": "xtV7JwLkVOyF"
      },
      "outputs": [],
      "source": [
        "y_pred_list = []\n",
        "model.eval()\n",
        "with torch.no_grad():\n",
        "    for X_batch in acc_loader:\n",
        "        X_batch = X_batch.to(device)\n",
        "        y_test_pred = model(X_batch)\n",
        "        y_test_pred = torch.sigmoid(y_test_pred)\n",
        "        y_pred_tag = torch.round(y_test_pred)\n",
        "        y_pred_list.append(y_pred_tag.cpu().numpy())\n",
        "\n",
        "y_pred_list = [a.squeeze().tolist() for a in y_pred_list]"
      ]
    },
    {
      "cell_type": "code",
      "execution_count": 28,
      "metadata": {
        "colab": {
          "base_uri": "https://localhost:8080/",
          "height": 170
        },
        "colab_type": "code",
        "id": "k-o01zoaVRhB",
        "outputId": "741f81ad-9588-4631-e8ab-a7ec24eab2f5"
      },
      "outputs": [
        {
          "name": "stdout",
          "output_type": "stream",
          "text": [
            "              precision    recall  f1-score   support\n",
            "\n",
            "           0       0.65      0.77      0.70      1233\n",
            "           1       0.64      0.50      0.56      1012\n",
            "\n",
            "    accuracy                           0.65      2245\n",
            "   macro avg       0.64      0.63      0.63      2245\n",
            "weighted avg       0.64      0.65      0.64      2245\n",
            "\n"
          ]
        }
      ],
      "source": [
        "#双向GRU网络\n",
        "print(classification_report(y_test, y_pred_list))"
      ]
    },
    {
      "cell_type": "code",
      "execution_count": 21,
      "metadata": {},
      "outputs": [
        {
          "name": "stdout",
          "output_type": "stream",
          "text": [
            "              precision    recall  f1-score   support\n",
            "\n",
            "           0       0.63      0.55      0.59      1233\n",
            "           1       0.53      0.61      0.56      1012\n",
            "\n",
            "    accuracy                           0.58      2245\n",
            "   macro avg       0.58      0.58      0.58      2245\n",
            "weighted avg       0.58      0.58      0.58      2245\n",
            "\n"
          ]
        }
      ],
      "source": [
        "#三层bp网络\n",
        "print(classification_report(y_test, y_pred_list))"
      ]
    }
  ],
  "metadata": {
    "accelerator": "GPU",
    "colab": {
      "collapsed_sections": [],
      "name": "PyTorch EEGEyeState",
      "provenance": []
    },
    "kernelspec": {
      "display_name": "Python 3.7.13 ('py37')",
      "language": "python",
      "name": "python3"
    },
    "language_info": {
      "codemirror_mode": {
        "name": "ipython",
        "version": 3
      },
      "file_extension": ".py",
      "mimetype": "text/x-python",
      "name": "python",
      "nbconvert_exporter": "python",
      "pygments_lexer": "ipython3",
      "version": "3.7.13"
    },
    "vscode": {
      "interpreter": {
        "hash": "40703cc71e24b84d043b3342c3086605c0b7de84c81c53b2679b51dbcc454186"
      }
    }
  },
  "nbformat": 4,
  "nbformat_minor": 0
}
