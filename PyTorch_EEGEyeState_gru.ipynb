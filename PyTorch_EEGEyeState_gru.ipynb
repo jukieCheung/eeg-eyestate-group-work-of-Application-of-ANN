{
  "cells": [
    {
      "cell_type": "code",
      "execution_count": 1,
      "metadata": {
        "colab": {},
        "colab_type": "code",
        "id": "z8dL4rrQSXbL"
      },
      "outputs": [
        {
          "name": "stderr",
          "output_type": "stream",
          "text": [
            "/home/jukie/anaconda3/envs/py37/lib/python3.7/site-packages/tqdm/auto.py:22: TqdmWarning: IProgress not found. Please update jupyter and ipywidgets. See https://ipywidgets.readthedocs.io/en/stable/user_install.html\n",
            "  from .autonotebook import tqdm as notebook_tqdm\n"
          ]
        }
      ],
      "source": [
        "import torch\n",
        "import torch.nn as nn\n",
        "import torch.nn.functional as F\n",
        "import torch.optim as optim\n",
        "import torch.utils.data as data\n",
        "\n",
        "import torchvision.transforms as transforms\n",
        "import torchvision.datasets as datasets\n",
        "from torch.optim.lr_scheduler import LambdaLR\n",
        "\n",
        "from sklearn import metrics\n",
        "from sklearn import decomposition\n",
        "from sklearn import manifold\n",
        "from sklearn.preprocessing import StandardScaler    \n",
        "from sklearn.model_selection import train_test_split\n",
        "from sklearn.metrics import confusion_matrix, classification_report\n",
        "from torch.utils.data import Dataset, DataLoader\n",
        "import matplotlib.pyplot as plt\n",
        "import numpy as np\n",
        "import pandas as pd\n",
        "import copy\n",
        "import random\n",
        "import time\n",
        "\n",
        "import adai_optim\n",
        "\n",
        "SEED = 1234\n",
        "\n",
        "random.seed(SEED)\n",
        "np.random.seed(SEED)\n",
        "torch.manual_seed(SEED)\n",
        "torch.cuda.manual_seed(SEED)\n",
        "torch.backends.cudnn.deterministic = True"
      ]
    },
    {
      "cell_type": "code",
      "execution_count": 2,
      "metadata": {
        "colab": {
          "base_uri": "https://localhost:8080/",
          "height": 204
        },
        "colab_type": "code",
        "id": "ny8CDFfPSlnP",
        "outputId": "79488470-2259-430d-87c9-db6360d49302"
      },
      "outputs": [],
      "source": [
        "df = pd.read_csv('/home/jukie/Project/eeg-eye-state-classification-master/eeg_eye_state.csv', skiprows = [i for i in range(19)], header=None)"
      ]
    },
    {
      "cell_type": "code",
      "execution_count": 3,
      "metadata": {
        "colab": {},
        "colab_type": "code",
        "id": "Ueg0srJ0SxkY"
      },
      "outputs": [],
      "source": [
        "X = df.loc[:,0:13]\n",
        "y = df.loc[:,14:]"
      ]
    },
    {
      "cell_type": "code",
      "execution_count": 4,
      "metadata": {
        "colab": {},
        "colab_type": "code",
        "id": "0hWfjogVTZkk"
      },
      "outputs": [],
      "source": [
        "X_train, X_test, y_train, y_test = train_test_split(X, y, test_size=0.15, random_state=1234)"
      ]
    },
    {
      "cell_type": "code",
      "execution_count": 5,
      "metadata": {},
      "outputs": [],
      "source": [
        "scaler = StandardScaler()\n",
        "X_train = scaler.fit_transform(X_train)\n",
        "X_test = scaler.fit_transform(X_test)"
      ]
    },
    {
      "cell_type": "code",
      "execution_count": 6,
      "metadata": {
        "colab": {
          "base_uri": "https://localhost:8080/",
          "height": 51
        },
        "colab_type": "code",
        "id": "Y6UeoQf-TTvM",
        "outputId": "b9822a98-85dd-4edb-e557-54677264c229"
      },
      "outputs": [
        {
          "name": "stdout",
          "output_type": "stream",
          "text": [
            "Training Data has 12717 examples\n",
            "Testing Data has 2245 examples\n"
          ]
        }
      ],
      "source": [
        "print(f\"Training Data has {len(X_train)} examples\")\n",
        "print(f\"Testing Data has {len(X_test)} examples\")"
      ]
    },
    {
      "cell_type": "code",
      "execution_count": 7,
      "metadata": {
        "colab": {
          "base_uri": "https://localhost:8080/",
          "height": 238
        },
        "colab_type": "code",
        "id": "PVs6v3Xk--S4",
        "outputId": "146e656e-cb7a-40b2-fcac-f9f5eb4c75f6"
      },
      "outputs": [],
      "source": [
        "y_train = y_train.to_numpy()\n"
      ]
    },
    {
      "cell_type": "code",
      "execution_count": 8,
      "metadata": {},
      "outputs": [],
      "source": [
        "y_test =y_test.to_numpy()"
      ]
    },
    {
      "cell_type": "code",
      "execution_count": 9,
      "metadata": {},
      "outputs": [],
      "source": [
        "#X_train = X_train.to_numpy()\n",
        "#X_test = X_test.to_numpy()"
      ]
    },
    {
      "cell_type": "code",
      "execution_count": 10,
      "metadata": {
        "colab": {},
        "colab_type": "code",
        "id": "4g4cmdfRURYC"
      },
      "outputs": [],
      "source": [
        "## Train Data\n",
        "class trainData(Dataset):\n",
        "    \n",
        "    def __init__(self, X_data, y_data):\n",
        "        self.X_data = X_data\n",
        "        self.y_data = y_data\n",
        "        \n",
        "    def __getitem__(self, index):\n",
        "        return self.X_data[index], self.y_data[index]\n",
        "        \n",
        "    def __len__ (self):\n",
        "        return len(self.X_data)\n",
        "\n",
        "\n",
        "train_data = trainData(torch.FloatTensor(X_train), \n",
        "                       torch.FloatTensor(y_train))\n",
        "## Test Data    \n",
        "class testData(Dataset):\n",
        "    \n",
        "    def __init__(self, X_data, y_data):\n",
        "        self.X_data = X_data\n",
        "        self.y_data = y_data\n",
        "        \n",
        "    def __getitem__(self, index):\n",
        "        return self.X_data[index], self.y_data[index]\n",
        "        \n",
        "    def __len__ (self):\n",
        "        return len(self.X_data)\n",
        "    \n",
        "\n",
        "test_data = testData(torch.FloatTensor(X_test),\n",
        "                    torch.FloatTensor(y_test))"
      ]
    },
    {
      "cell_type": "code",
      "execution_count": 11,
      "metadata": {
        "colab": {},
        "colab_type": "code",
        "id": "QlGXd0e1_yAl"
      },
      "outputs": [],
      "source": [
        "# Create DataLoaders for torch\n",
        "BATCH_SIZE = 64\n",
        "LEARNING_RATE=0.001\n",
        "EPOCHS=50\n",
        "\n",
        "train_loader = DataLoader(dataset=train_data, batch_size=BATCH_SIZE, shuffle=True)\n",
        "test_loader = DataLoader(dataset=test_data, batch_size=BATCH_SIZE,)"
      ]
    },
    {
      "cell_type": "code",
      "execution_count": 12,
      "metadata": {},
      "outputs": [],
      "source": [
        "class GRUnet1(nn.Module):\n",
        "    def __init__(self):\n",
        "        super(GRUnet1,self).__init__()\n",
        "        self.embed = nn.Sequential(\n",
        "            nn.Linear(1,64),\n",
        "            #nn.Dropout(p=0.3),\n",
        "            nn.ReLU())\n",
        "        self.gru1 = nn.GRU(input_size=64,hidden_size=256,batch_first=True,bidirectional=True)\n",
        "        self.gru2 = nn.GRU(input_size=512,hidden_size=128,batch_first=True,bidirectional=True)\n",
        "        self.gru3 = nn.GRU(input_size=256,hidden_size=32,batch_first=True,bidirectional=True)\n",
        "        self.conn1 = nn.Dropout(p=0.3)\n",
        "        self.fc = nn.Linear(128, 1)\n",
        "        self.flat = nn.Sequential(\n",
        "            nn.Linear(3584,128),\n",
        "            #nn.Dropout(p=0.5),\n",
        "            nn.ReLU())\n",
        "        self.batchnorm1 = nn.BatchNorm1d(14)\n",
        "        self.head = nn.Sigmoid()\n",
        "\n",
        "    def forward(self,x):\n",
        "        x = torch.unsqueeze(x,2)\n",
        "        x = self.embed(x)\n",
        "        x = self.batchnorm1(x)\n",
        "        x,n = self.gru1(x,None)\n",
        "        x = self.conn1(x)\n",
        "        x,n = self.gru2(x,None)\n",
        "        x = self.conn1(x)\n",
        "        #x,n = self.gru3(x,None)\n",
        "        #x = self.conn1(x)\n",
        "        #x = self.batchnorm1(x)\n",
        "        x = torch.flatten(x,1)\n",
        "        x = self.flat(x)\n",
        "        x = self.fc(x)\n",
        "        x = self.head(x)\n",
        "        return x\n",
        "\n",
        "model = GRUnet1()"
      ]
    },
    {
      "cell_type": "code",
      "execution_count": 13,
      "metadata": {
        "colab": {
          "base_uri": "https://localhost:8080/",
          "height": 34
        },
        "colab_type": "code",
        "id": "ChKT8fRTJeCV",
        "outputId": "b544f116-4523-44f8-ae9c-7320a6067510"
      },
      "outputs": [
        {
          "name": "stdout",
          "output_type": "stream",
          "text": [
            "The model has 1,502,493 trainable parameters\n"
          ]
        }
      ],
      "source": [
        "def count_parameters(model):\n",
        "    return sum(p.numel() for p in model.parameters() if p.requires_grad)\n",
        "print(f'The model has {count_parameters(model):,} trainable parameters')"
      ]
    },
    {
      "cell_type": "code",
      "execution_count": 14,
      "metadata": {
        "colab": {},
        "colab_type": "code",
        "id": "0T1eGSRpH4bW"
      },
      "outputs": [],
      "source": [
        "optimizer = optim.Adam(model.parameters(), lr=LEARNING_RATE, betas=(0.1, 0.99), eps=1e-03, weight_decay=5e-4)\n",
        "#optimizer = optim.Adam(model.parameters(), lr=LEARNING_RATE)\n",
        "#optimizer = adai_optim.AdaiW(model.parameters(), lr=LEARNING_RATE, betas=(0.1, 0.99), eps=1e-03, weight_decay=5e-4)\n",
        "#criterion = nn.BCEWithLogitsLoss()\n",
        "criterion = nn.BCELoss()\n",
        "#scheduler_1 = LambdaLR(optimizer, lr_lambda=lambda epoch: 0.001 * np.exp(-epoch / 10.0))\n",
        "device = torch.device('cuda:0')"
      ]
    },
    {
      "cell_type": "code",
      "execution_count": 15,
      "metadata": {
        "colab": {},
        "colab_type": "code",
        "id": "ROQMjs0jLmVQ"
      },
      "outputs": [],
      "source": [
        "model = model.to(device)\n",
        "criterion = criterion.to(device)"
      ]
    },
    {
      "cell_type": "code",
      "execution_count": 16,
      "metadata": {
        "colab": {},
        "colab_type": "code",
        "id": "0fYPzjCRU4Jp"
      },
      "outputs": [],
      "source": [
        "def accuracy(y_pred, y_test):\n",
        "    #y_pred_tag = torch.round(torch.sigmoid(y_pred))\n",
        "    y_pred_tag = torch.round(y_pred)\n",
        "\n",
        "    correct_results_sum = (y_pred_tag == y_test).sum().float()\n",
        "    acc = correct_results_sum/y_test.shape[0]\n",
        "    acc = torch.round(acc * 100)\n",
        "    \n",
        "    return acc"
      ]
    },
    {
      "cell_type": "code",
      "execution_count": 17,
      "metadata": {
        "colab": {
          "base_uri": "https://localhost:8080/",
          "height": 867
        },
        "colab_type": "code",
        "id": "qogO4Jw3U_9q",
        "outputId": "dd31b4c3-d072-4409-b749-4f83e72e88c1"
      },
      "outputs": [
        {
          "name": "stdout",
          "output_type": "stream",
          "text": [
            "Epoch 001: | Loss: 0.67510 | Acc: 56.894\n",
            "Epoch 001: | tLoss: 0.68197 | tAcc: 60.361\n",
            "Epoch 002: | Loss: 0.65531 | Acc: 59.357\n",
            "Epoch 002: | tLoss: 0.71983 | tAcc: 59.278\n",
            "Epoch 003: | Loss: 0.63884 | Acc: 61.538\n",
            "Epoch 003: | tLoss: 0.82076 | tAcc: 60.528\n",
            "Epoch 004: | Loss: 0.61947 | Acc: 63.784\n",
            "Epoch 004: | tLoss: 0.94725 | tAcc: 56.306\n",
            "Epoch 005: | Loss: 0.59401 | Acc: 67.060\n",
            "Epoch 005: | tLoss: 1.04421 | tAcc: 56.778\n",
            "Epoch 006: | Loss: 0.56919 | Acc: 69.593\n",
            "Epoch 006: | tLoss: 1.14452 | tAcc: 58.694\n",
            "Epoch 007: | Loss: 0.54385 | Acc: 71.563\n",
            "Epoch 007: | tLoss: 1.02649 | tAcc: 62.083\n",
            "Epoch 008: | Loss: 0.52170 | Acc: 73.276\n",
            "Epoch 008: | tLoss: 0.90955 | tAcc: 62.861\n",
            "Epoch 009: | Loss: 0.49855 | Acc: 74.744\n",
            "Epoch 009: | tLoss: 1.09175 | tAcc: 61.306\n",
            "Epoch 010: | Loss: 0.47908 | Acc: 76.231\n",
            "Epoch 010: | tLoss: 1.02215 | tAcc: 64.361\n",
            "Epoch 011: | Loss: 0.46484 | Acc: 77.281\n",
            "Epoch 011: | tLoss: 1.08120 | tAcc: 63.111\n",
            "Epoch 012: | Loss: 0.45366 | Acc: 78.166\n",
            "Epoch 012: | tLoss: 1.16777 | tAcc: 63.139\n",
            "Epoch 013: | Loss: 0.43759 | Acc: 78.744\n",
            "Epoch 013: | tLoss: 1.09695 | tAcc: 63.611\n",
            "Epoch 014: | Loss: 0.43551 | Acc: 78.960\n",
            "Epoch 014: | tLoss: 0.95933 | tAcc: 65.556\n",
            "Epoch 015: | Loss: 0.42351 | Acc: 79.628\n",
            "Epoch 015: | tLoss: 1.04576 | tAcc: 64.028\n",
            "Epoch 016: | Loss: 0.41480 | Acc: 79.970\n",
            "Epoch 016: | tLoss: 0.85153 | tAcc: 63.694\n",
            "Epoch 017: | Loss: 0.40801 | Acc: 80.533\n",
            "Epoch 017: | tLoss: 1.25177 | tAcc: 64.278\n",
            "Epoch 018: | Loss: 0.40190 | Acc: 80.879\n",
            "Epoch 018: | tLoss: 1.19823 | tAcc: 63.833\n",
            "Epoch 019: | Loss: 0.39390 | Acc: 81.327\n",
            "Epoch 019: | tLoss: 1.22386 | tAcc: 62.556\n",
            "Epoch 020: | Loss: 0.39147 | Acc: 81.653\n",
            "Epoch 020: | tLoss: 0.92089 | tAcc: 65.361\n",
            "Epoch 021: | Loss: 0.38607 | Acc: 82.201\n",
            "Epoch 021: | tLoss: 1.38510 | tAcc: 61.722\n",
            "Epoch 022: | Loss: 0.38689 | Acc: 81.779\n",
            "Epoch 022: | tLoss: 1.59772 | tAcc: 60.306\n",
            "Epoch 023: | Loss: 0.37906 | Acc: 82.412\n",
            "Epoch 023: | tLoss: 1.29406 | tAcc: 62.861\n",
            "Epoch 024: | Loss: 0.37234 | Acc: 82.588\n",
            "Epoch 024: | tLoss: 1.25349 | tAcc: 63.639\n",
            "Epoch 025: | Loss: 0.37225 | Acc: 82.533\n",
            "Epoch 025: | tLoss: 1.39026 | tAcc: 61.472\n",
            "Epoch 026: | Loss: 0.36842 | Acc: 82.935\n",
            "Epoch 026: | tLoss: 1.33634 | tAcc: 63.278\n",
            "Epoch 027: | Loss: 0.36667 | Acc: 82.864\n",
            "Epoch 027: | tLoss: 1.10331 | tAcc: 64.472\n",
            "Epoch 028: | Loss: 0.35833 | Acc: 83.719\n",
            "Epoch 028: | tLoss: 1.79557 | tAcc: 61.139\n",
            "Epoch 029: | Loss: 0.35332 | Acc: 83.613\n",
            "Epoch 029: | tLoss: 1.52503 | tAcc: 60.889\n",
            "Epoch 030: | Loss: 0.34981 | Acc: 84.060\n",
            "Epoch 030: | tLoss: 1.52169 | tAcc: 61.750\n",
            "Epoch 031: | Loss: 0.35198 | Acc: 83.432\n",
            "Epoch 031: | tLoss: 1.43795 | tAcc: 63.056\n",
            "Epoch 032: | Loss: 0.35446 | Acc: 83.563\n",
            "Epoch 032: | tLoss: 1.67869 | tAcc: 61.333\n",
            "Epoch 033: | Loss: 0.34557 | Acc: 84.156\n",
            "Epoch 033: | tLoss: 1.61877 | tAcc: 61.556\n",
            "Epoch 034: | Loss: 0.34758 | Acc: 84.156\n",
            "Epoch 034: | tLoss: 1.51241 | tAcc: 62.167\n",
            "Epoch 035: | Loss: 0.33646 | Acc: 85.080\n",
            "Epoch 035: | tLoss: 1.37630 | tAcc: 63.389\n",
            "Epoch 036: | Loss: 0.34000 | Acc: 84.508\n",
            "Epoch 036: | tLoss: 1.73865 | tAcc: 61.972\n",
            "Epoch 037: | Loss: 0.34269 | Acc: 84.302\n",
            "Epoch 037: | tLoss: 1.01201 | tAcc: 64.528\n",
            "Epoch 038: | Loss: 0.33407 | Acc: 84.819\n",
            "Epoch 038: | tLoss: 1.07615 | tAcc: 65.417\n",
            "Epoch 039: | Loss: 0.33328 | Acc: 84.930\n",
            "Epoch 039: | tLoss: 1.22460 | tAcc: 65.306\n",
            "Epoch 040: | Loss: 0.33048 | Acc: 85.005\n",
            "Epoch 040: | tLoss: 1.67027 | tAcc: 61.639\n",
            "Epoch 041: | Loss: 0.33020 | Acc: 84.905\n",
            "Epoch 041: | tLoss: 1.68470 | tAcc: 63.056\n",
            "Epoch 042: | Loss: 0.32788 | Acc: 85.236\n",
            "Epoch 042: | tLoss: 1.30792 | tAcc: 65.944\n",
            "Epoch 043: | Loss: 0.31987 | Acc: 85.513\n",
            "Epoch 043: | tLoss: 1.71043 | tAcc: 61.750\n",
            "Epoch 044: | Loss: 0.32236 | Acc: 85.477\n",
            "Epoch 044: | tLoss: 1.82090 | tAcc: 62.000\n",
            "Epoch 045: | Loss: 0.31804 | Acc: 85.523\n",
            "Epoch 045: | tLoss: 0.96616 | tAcc: 66.889\n",
            "Epoch 046: | Loss: 0.31317 | Acc: 86.176\n",
            "Epoch 046: | tLoss: 1.84441 | tAcc: 63.111\n",
            "Epoch 047: | Loss: 0.31151 | Acc: 85.809\n",
            "Epoch 047: | tLoss: 1.13570 | tAcc: 65.167\n",
            "Epoch 048: | Loss: 0.31316 | Acc: 85.719\n",
            "Epoch 048: | tLoss: 1.52521 | tAcc: 61.556\n",
            "Epoch 049: | Loss: 0.30888 | Acc: 85.915\n",
            "Epoch 049: | tLoss: 1.43065 | tAcc: 64.472\n",
            "Epoch 050: | Loss: 0.30952 | Acc: 85.874\n",
            "Epoch 050: | tLoss: 1.39099 | tAcc: 60.250\n",
            "Epoch 051: | Loss: 0.30738 | Acc: 86.256\n",
            "Epoch 051: | tLoss: 2.00421 | tAcc: 62.194\n",
            "Epoch 052: | Loss: 0.31794 | Acc: 86.623\n",
            "Epoch 052: | tLoss: 2.09551 | tAcc: 61.667\n",
            "Epoch 053: | Loss: 0.30836 | Acc: 86.613\n",
            "Epoch 053: | tLoss: 1.95998 | tAcc: 62.111\n",
            "Epoch 054: | Loss: 0.29797 | Acc: 86.573\n",
            "Epoch 054: | tLoss: 1.36270 | tAcc: 64.028\n",
            "Epoch 055: | Loss: 0.29625 | Acc: 86.513\n",
            "Epoch 055: | tLoss: 1.64643 | tAcc: 62.500\n",
            "Epoch 056: | Loss: 0.29550 | Acc: 86.628\n",
            "Epoch 056: | tLoss: 1.87272 | tAcc: 62.444\n",
            "Epoch 057: | Loss: 0.29456 | Acc: 87.030\n",
            "Epoch 057: | tLoss: 2.63969 | tAcc: 62.111\n",
            "Epoch 058: | Loss: 0.29468 | Acc: 86.799\n",
            "Epoch 058: | tLoss: 1.82334 | tAcc: 63.306\n",
            "Epoch 059: | Loss: 0.29354 | Acc: 87.080\n",
            "Epoch 059: | tLoss: 1.71746 | tAcc: 62.472\n",
            "Epoch 060: | Loss: 0.28747 | Acc: 86.960\n",
            "Epoch 060: | tLoss: 1.89764 | tAcc: 62.611\n",
            "Epoch 061: | Loss: 0.28840 | Acc: 87.261\n",
            "Epoch 061: | tLoss: 1.64054 | tAcc: 63.611\n",
            "Epoch 062: | Loss: 0.28537 | Acc: 87.578\n",
            "Epoch 062: | tLoss: 1.97284 | tAcc: 63.194\n",
            "Epoch 063: | Loss: 0.28312 | Acc: 87.327\n",
            "Epoch 063: | tLoss: 2.35979 | tAcc: 61.194\n",
            "Epoch 064: | Loss: 0.28473 | Acc: 87.095\n",
            "Epoch 064: | tLoss: 1.88569 | tAcc: 64.278\n",
            "Epoch 065: | Loss: 0.27849 | Acc: 87.638\n",
            "Epoch 065: | tLoss: 1.82899 | tAcc: 63.833\n",
            "Epoch 066: | Loss: 0.27939 | Acc: 87.563\n",
            "Epoch 066: | tLoss: 1.50072 | tAcc: 65.694\n",
            "Epoch 067: | Loss: 0.27307 | Acc: 88.065\n",
            "Epoch 067: | tLoss: 2.06593 | tAcc: 62.889\n",
            "Epoch 068: | Loss: 0.27774 | Acc: 87.608\n",
            "Epoch 068: | tLoss: 1.71505 | tAcc: 64.306\n",
            "Epoch 069: | Loss: 0.26904 | Acc: 87.975\n",
            "Epoch 069: | tLoss: 1.98661 | tAcc: 62.528\n",
            "Epoch 070: | Loss: 0.27362 | Acc: 87.678\n",
            "Epoch 070: | tLoss: 1.90590 | tAcc: 64.694\n",
            "Epoch 071: | Loss: 0.26910 | Acc: 88.387\n",
            "Epoch 071: | tLoss: 1.41651 | tAcc: 64.083\n",
            "Epoch 072: | Loss: 0.27237 | Acc: 88.005\n",
            "Epoch 072: | tLoss: 2.32013 | tAcc: 63.361\n",
            "Epoch 073: | Loss: 0.26826 | Acc: 88.121\n",
            "Epoch 073: | tLoss: 1.78435 | tAcc: 63.778\n",
            "Epoch 074: | Loss: 0.26187 | Acc: 88.618\n",
            "Epoch 074: | tLoss: 1.70245 | tAcc: 61.972\n",
            "Epoch 075: | Loss: 0.25777 | Acc: 88.618\n",
            "Epoch 075: | tLoss: 2.44078 | tAcc: 62.000\n",
            "Epoch 076: | Loss: 0.26458 | Acc: 88.106\n",
            "Epoch 076: | tLoss: 1.79850 | tAcc: 62.083\n",
            "Epoch 077: | Loss: 0.26476 | Acc: 88.226\n",
            "Epoch 077: | tLoss: 1.88436 | tAcc: 61.667\n",
            "Epoch 078: | Loss: 0.25209 | Acc: 88.673\n",
            "Epoch 078: | tLoss: 1.47737 | tAcc: 63.389\n",
            "Epoch 079: | Loss: 0.25728 | Acc: 88.960\n",
            "Epoch 079: | tLoss: 1.58404 | tAcc: 65.972\n",
            "Epoch 080: | Loss: 0.25177 | Acc: 88.844\n",
            "Epoch 080: | tLoss: 2.24301 | tAcc: 62.500\n",
            "Epoch 081: | Loss: 0.25830 | Acc: 88.925\n",
            "Epoch 081: | tLoss: 2.36623 | tAcc: 62.444\n",
            "Epoch 082: | Loss: 0.24617 | Acc: 89.131\n",
            "Epoch 082: | tLoss: 1.57322 | tAcc: 60.000\n",
            "Epoch 083: | Loss: 0.24951 | Acc: 89.000\n",
            "Epoch 083: | tLoss: 2.06706 | tAcc: 63.056\n",
            "Epoch 084: | Loss: 0.25383 | Acc: 88.935\n",
            "Epoch 084: | tLoss: 2.27236 | tAcc: 63.028\n",
            "Epoch 085: | Loss: 0.24688 | Acc: 89.638\n",
            "Epoch 085: | tLoss: 2.01654 | tAcc: 63.167\n",
            "Epoch 086: | Loss: 0.24580 | Acc: 89.075\n",
            "Epoch 086: | tLoss: 2.06657 | tAcc: 64.667\n",
            "Epoch 087: | Loss: 0.23836 | Acc: 89.593\n",
            "Epoch 087: | tLoss: 2.19898 | tAcc: 63.083\n",
            "Epoch 088: | Loss: 0.23904 | Acc: 89.397\n",
            "Epoch 088: | tLoss: 2.10006 | tAcc: 61.611\n",
            "Epoch 089: | Loss: 0.23680 | Acc: 89.648\n",
            "Epoch 089: | tLoss: 2.09171 | tAcc: 63.194\n",
            "Epoch 090: | Loss: 0.23832 | Acc: 89.503\n",
            "Epoch 090: | tLoss: 2.23288 | tAcc: 59.778\n",
            "Epoch 091: | Loss: 0.23826 | Acc: 89.558\n",
            "Epoch 091: | tLoss: 1.95352 | tAcc: 62.694\n",
            "Epoch 092: | Loss: 0.23185 | Acc: 89.990\n",
            "Epoch 092: | tLoss: 1.79851 | tAcc: 66.222\n",
            "Epoch 093: | Loss: 0.23486 | Acc: 89.618\n",
            "Epoch 093: | tLoss: 2.62404 | tAcc: 62.639\n",
            "Epoch 094: | Loss: 0.23083 | Acc: 89.693\n",
            "Epoch 094: | tLoss: 2.10023 | tAcc: 65.028\n",
            "Epoch 095: | Loss: 0.22571 | Acc: 90.055\n",
            "Epoch 095: | tLoss: 2.19755 | tAcc: 63.611\n",
            "Epoch 096: | Loss: 0.23161 | Acc: 89.905\n",
            "Epoch 096: | tLoss: 2.23727 | tAcc: 64.667\n",
            "Epoch 097: | Loss: 0.23080 | Acc: 89.874\n",
            "Epoch 097: | tLoss: 2.13898 | tAcc: 63.889\n",
            "Epoch 098: | Loss: 0.23020 | Acc: 90.020\n",
            "Epoch 098: | tLoss: 2.33283 | tAcc: 62.528\n",
            "Epoch 099: | Loss: 0.22168 | Acc: 90.266\n",
            "Epoch 099: | tLoss: 2.36327 | tAcc: 63.361\n",
            "Epoch 100: | Loss: 0.22071 | Acc: 90.472\n",
            "Epoch 100: | tLoss: 2.29665 | tAcc: 63.083\n"
          ]
        }
      ],
      "source": [
        "#model.train()\n",
        "for e in range(1, 101):\n",
        "    epoch_loss = 0\n",
        "    epoch_acc = 0\n",
        "    tepoch_loss = 0\n",
        "    tepoch_acc = 0\n",
        "    model.train()\n",
        "    for X_batch, y_batch in train_loader:\n",
        "        \n",
        "        X_batch, y_batch = X_batch.to(device), y_batch.to(device)\n",
        "        optimizer.zero_grad()\n",
        "        \n",
        "        y_pred = model(X_batch)\n",
        "        #y_pred = torch.argmax(y_pred, dim=1)\n",
        "        #y_pred = torch.FloatTensor(y_pred)\n",
        "        #y_pred = y_pred.to(device)\n",
        "        #y_pred = y_pred.float()\n",
        "        loss = criterion(y_pred, y_batch)\n",
        "        acc = accuracy(y_pred, y_batch)\n",
        "        #loss.requires_grad_()\n",
        "        loss.backward()\n",
        "        optimizer.step()\n",
        "        #scheduler_1.step()\n",
        "        epoch_loss += loss.item()\n",
        "        epoch_acc += acc.item()\n",
        "        \n",
        "    model.eval()\n",
        "    for X_batch, y_batch in test_loader:\n",
        "        \n",
        "        X_batch, y_batch = X_batch.to(device), y_batch.to(device)\n",
        "\n",
        "        \n",
        "        y_pred = model(X_batch)\n",
        "        #y_pred = torch.argmax(y_pred, dim=1)\n",
        "        #y_pred = torch.FloatTensor(y_pred)\n",
        "        #y_pred = y_pred.to(device)\n",
        "        #y_pred = y_pred.float()\n",
        "        tloss = criterion(y_pred, y_batch)\n",
        "        tacc = accuracy(y_pred, y_batch)\n",
        "                \n",
        "        tepoch_loss += tloss.item()\n",
        "        tepoch_acc += tacc.item()\n",
        "        \n",
        "    print(f'Epoch {e+0:03}: | Loss: {epoch_loss/len(train_loader):.5f} | Acc: {epoch_acc/len(train_loader):.3f}')    \n",
        "    print(f'Epoch {e+0:03}: | tLoss: {tepoch_loss/len(test_loader):.5f} | tAcc: {tepoch_acc/len(test_loader):.3f}')"
      ]
    },
    {
      "cell_type": "code",
      "execution_count": 18,
      "metadata": {},
      "outputs": [],
      "source": [
        "class accData(Dataset):\n",
        "    \n",
        "    def __init__(self, X_data):\n",
        "        self.X_data = X_data\n",
        "        \n",
        "    def __getitem__(self, index):\n",
        "        return self.X_data[index]\n",
        "        \n",
        "    def __len__ (self):\n",
        "        return len(self.X_data)\n",
        "    \n",
        "\n",
        "acc_data = accData(torch.FloatTensor(X_test))"
      ]
    },
    {
      "cell_type": "code",
      "execution_count": 19,
      "metadata": {},
      "outputs": [],
      "source": [
        "acc_loader = DataLoader(dataset=acc_data, batch_size=1)"
      ]
    },
    {
      "cell_type": "code",
      "execution_count": 20,
      "metadata": {
        "colab": {},
        "colab_type": "code",
        "id": "xtV7JwLkVOyF"
      },
      "outputs": [],
      "source": [
        "y_pred_list = []\n",
        "model.eval()\n",
        "with torch.no_grad():\n",
        "    for X_batch in acc_loader:\n",
        "        X_batch = X_batch.to(device)\n",
        "        y_test_pred = model(X_batch)\n",
        "        #y_test_pred = torch.sigmoid(y_test_pred)\n",
        "        y_pred_tag = torch.round(y_test_pred)\n",
        "        y_pred_list.append(y_pred_tag.cpu().numpy())\n",
        "\n",
        "y_pred_list = [a.squeeze().tolist() for a in y_pred_list]"
      ]
    },
    {
      "cell_type": "code",
      "execution_count": 21,
      "metadata": {},
      "outputs": [
        {
          "name": "stdout",
          "output_type": "stream",
          "text": [
            "              precision    recall  f1-score   support\n",
            "\n",
            "           0       0.77      0.30      0.43      1233\n",
            "           1       0.51      0.89      0.65      1012\n",
            "\n",
            "    accuracy                           0.57      2245\n",
            "   macro avg       0.64      0.60      0.54      2245\n",
            "weighted avg       0.65      0.57      0.53      2245\n",
            "\n"
          ]
        }
      ],
      "source": [
        "print(classification_report(y_test, y_pred_list))"
      ]
    },
    {
      "cell_type": "code",
      "execution_count": 21,
      "metadata": {},
      "outputs": [
        {
          "name": "stdout",
          "output_type": "stream",
          "text": [
            "              precision    recall  f1-score   support\n",
            "\n",
            "           0       0.61      0.36      0.46      1233\n",
            "           1       0.48      0.71      0.57      1012\n",
            "\n",
            "    accuracy                           0.52      2245\n",
            "   macro avg       0.54      0.54      0.51      2245\n",
            "weighted avg       0.55      0.52      0.51      2245\n",
            "\n"
          ]
        }
      ],
      "source": [
        "print(classification_report(y_test, y_pred_list))"
      ]
    }
  ],
  "metadata": {
    "accelerator": "GPU",
    "colab": {
      "collapsed_sections": [],
      "name": "PyTorch EEGEyeState",
      "provenance": []
    },
    "kernelspec": {
      "display_name": "Python 3.7.13 ('py37')",
      "language": "python",
      "name": "python3"
    },
    "language_info": {
      "codemirror_mode": {
        "name": "ipython",
        "version": 3
      },
      "file_extension": ".py",
      "mimetype": "text/x-python",
      "name": "python",
      "nbconvert_exporter": "python",
      "pygments_lexer": "ipython3",
      "version": "3.7.13"
    },
    "vscode": {
      "interpreter": {
        "hash": "40703cc71e24b84d043b3342c3086605c0b7de84c81c53b2679b51dbcc454186"
      }
    }
  },
  "nbformat": 4,
  "nbformat_minor": 0
}
